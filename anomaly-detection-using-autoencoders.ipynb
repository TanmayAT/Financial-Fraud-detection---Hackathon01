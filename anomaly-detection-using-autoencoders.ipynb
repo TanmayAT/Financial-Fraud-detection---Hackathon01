{
 "cells": [
  {
   "cell_type": "code",
   "execution_count": 1,
   "id": "4fcb6695",
   "metadata": {
    "_cell_guid": "b1076dfc-b9ad-4769-8c92-a6c4dae69d19",
    "_uuid": "8f2839f25d086af736a60e9eeb907d3b93b6e0e5",
    "execution": {
     "iopub.execute_input": "2024-07-30T14:17:59.971792Z",
     "iopub.status.busy": "2024-07-30T14:17:59.971522Z",
     "iopub.status.idle": "2024-07-30T14:18:00.738726Z",
     "shell.execute_reply": "2024-07-30T14:18:00.737902Z"
    },
    "papermill": {
     "duration": 0.776321,
     "end_time": "2024-07-30T14:18:00.740927",
     "exception": false,
     "start_time": "2024-07-30T14:17:59.964606",
     "status": "completed"
    },
    "tags": []
   },
   "outputs": [
    {
     "name": "stdout",
     "output_type": "stream",
     "text": [
      "/kaggle/input/creditcardfraud/creditcard.csv\n"
     ]
    }
   ],
   "source": [
    "# This Python 3 environment comes with many helpful analytics libraries installed\n",
    "# It is defined by the kaggle/python Docker image: https://github.com/kaggle/docker-python\n",
    "# For example, here's several helpful packages to load\n",
    "\n",
    "import numpy as np # linear algebra\n",
    "import pandas as pd # data processing, CSV file I/O (e.g. pd.read_csv)\n",
    "\n",
    "# Input data files are available in the read-only \"../input/\" directory\n",
    "# For example, running this (by clicking run or pressing Shift+Enter) will list all files under the input directory\n",
    "\n",
    "import os\n",
    "for dirname, _, filenames in os.walk('/kaggle/input'):\n",
    "    for filename in filenames:\n",
    "        print(os.path.join(dirname, filename))\n",
    "\n",
    "# You can write up to 20GB to the current directory (/kaggle/working/) that gets preserved as output when you create a version using \"Save & Run All\" \n",
    "# You can also write temporary files to /kaggle/temp/, but they won't be saved outside of the current session"
   ]
  },
  {
   "cell_type": "code",
   "execution_count": 2,
   "id": "101dbdf8",
   "metadata": {
    "execution": {
     "iopub.execute_input": "2024-07-30T14:18:00.753471Z",
     "iopub.status.busy": "2024-07-30T14:18:00.753072Z",
     "iopub.status.idle": "2024-07-30T14:19:28.678063Z",
     "shell.execute_reply": "2024-07-30T14:19:28.677113Z"
    },
    "papermill": {
     "duration": 87.933865,
     "end_time": "2024-07-30T14:19:28.680578",
     "exception": false,
     "start_time": "2024-07-30T14:18:00.746713",
     "status": "completed"
    },
    "tags": []
   },
   "outputs": [
    {
     "name": "stdout",
     "output_type": "stream",
     "text": [
      "Requirement already satisfied: pip in /opt/conda/lib/python3.10/site-packages (23.3.2)\r\n",
      "Collecting pip\r\n",
      "  Downloading pip-24.2-py3-none-any.whl.metadata (3.6 kB)\r\n",
      "Downloading pip-24.2-py3-none-any.whl (1.8 MB)\r\n",
      "\u001b[2K   \u001b[90m━━━━━━━━━━━━━━━━━━━━━━━━━━━━━━━━━━━━━━━━\u001b[0m \u001b[32m1.8/1.8 MB\u001b[0m \u001b[31m25.4 MB/s\u001b[0m eta \u001b[36m0:00:00\u001b[0m\r\n",
      "\u001b[?25hInstalling collected packages: pip\r\n",
      "  Attempting uninstall: pip\r\n",
      "    Found existing installation: pip 23.3.2\r\n",
      "    Uninstalling pip-23.3.2:\r\n",
      "      Successfully uninstalled pip-23.3.2\r\n",
      "Successfully installed pip-24.2\r\n",
      "Collecting tensorflow-gpu\r\n",
      "  Downloading tensorflow-gpu-2.12.0.tar.gz (2.6 kB)\r\n",
      "  Preparing metadata (setup.py) ... \u001b[?25l-\b \berror\r\n",
      "  \u001b[1;31merror\u001b[0m: \u001b[1msubprocess-exited-with-error\u001b[0m\r\n",
      "  \r\n",
      "  \u001b[31m×\u001b[0m \u001b[32mpython setup.py egg_info\u001b[0m did not run successfully.\r\n",
      "  \u001b[31m│\u001b[0m exit code: \u001b[1;36m1\u001b[0m\r\n",
      "  \u001b[31m╰─>\u001b[0m \u001b[31m[39 lines of output]\u001b[0m\r\n",
      "  \u001b[31m   \u001b[0m Traceback (most recent call last):\r\n",
      "  \u001b[31m   \u001b[0m   File \"/opt/conda/lib/python3.10/site-packages/setuptools/_vendor/packaging/requirements.py\", line 35, in __init__\r\n",
      "  \u001b[31m   \u001b[0m     parsed = _parse_requirement(requirement_string)\r\n",
      "  \u001b[31m   \u001b[0m   File \"/opt/conda/lib/python3.10/site-packages/setuptools/_vendor/packaging/_parser.py\", line 64, in parse_requirement\r\n",
      "  \u001b[31m   \u001b[0m     return _parse_requirement(Tokenizer(source, rules=DEFAULT_RULES))\r\n",
      "  \u001b[31m   \u001b[0m   File \"/opt/conda/lib/python3.10/site-packages/setuptools/_vendor/packaging/_parser.py\", line 82, in _parse_requirement\r\n",
      "  \u001b[31m   \u001b[0m     url, specifier, marker = _parse_requirement_details(tokenizer)\r\n",
      "  \u001b[31m   \u001b[0m   File \"/opt/conda/lib/python3.10/site-packages/setuptools/_vendor/packaging/_parser.py\", line 126, in _parse_requirement_details\r\n",
      "  \u001b[31m   \u001b[0m     marker = _parse_requirement_marker(\r\n",
      "  \u001b[31m   \u001b[0m   File \"/opt/conda/lib/python3.10/site-packages/setuptools/_vendor/packaging/_parser.py\", line 147, in _parse_requirement_marker\r\n",
      "  \u001b[31m   \u001b[0m     tokenizer.raise_syntax_error(\r\n",
      "  \u001b[31m   \u001b[0m   File \"/opt/conda/lib/python3.10/site-packages/setuptools/_vendor/packaging/_tokenizer.py\", line 165, in raise_syntax_error\r\n",
      "  \u001b[31m   \u001b[0m     raise ParserSyntaxError(\r\n",
      "  \u001b[31m   \u001b[0m setuptools.extern.packaging._tokenizer.ParserSyntaxError: Expected end or semicolon (after name and no valid version specifier)\r\n",
      "  \u001b[31m   \u001b[0m     python_version>\"3.7\"\r\n",
      "  \u001b[31m   \u001b[0m                   ^\r\n",
      "  \u001b[31m   \u001b[0m \r\n",
      "  \u001b[31m   \u001b[0m The above exception was the direct cause of the following exception:\r\n",
      "  \u001b[31m   \u001b[0m \r\n",
      "  \u001b[31m   \u001b[0m Traceback (most recent call last):\r\n",
      "  \u001b[31m   \u001b[0m   File \"<string>\", line 2, in <module>\r\n",
      "  \u001b[31m   \u001b[0m   File \"<pip-setuptools-caller>\", line 34, in <module>\r\n",
      "  \u001b[31m   \u001b[0m   File \"/tmp/pip-install-cqplnc1f/tensorflow-gpu_d237f3ce48254e02accefc2c766939f1/setup.py\", line 40, in <module>\r\n",
      "  \u001b[31m   \u001b[0m     setuptools.setup()\r\n",
      "  \u001b[31m   \u001b[0m   File \"/opt/conda/lib/python3.10/site-packages/setuptools/__init__.py\", line 102, in setup\r\n",
      "  \u001b[31m   \u001b[0m     _install_setup_requires(attrs)\r\n",
      "  \u001b[31m   \u001b[0m   File \"/opt/conda/lib/python3.10/site-packages/setuptools/__init__.py\", line 73, in _install_setup_requires\r\n",
      "  \u001b[31m   \u001b[0m     dist.parse_config_files(ignore_option_errors=True)\r\n",
      "  \u001b[31m   \u001b[0m   File \"/opt/conda/lib/python3.10/site-packages/setuptools/dist.py\", line 629, in parse_config_files\r\n",
      "  \u001b[31m   \u001b[0m     self._finalize_requires()\r\n",
      "  \u001b[31m   \u001b[0m   File \"/opt/conda/lib/python3.10/site-packages/setuptools/dist.py\", line 364, in _finalize_requires\r\n",
      "  \u001b[31m   \u001b[0m     self._normalize_requires()\r\n",
      "  \u001b[31m   \u001b[0m   File \"/opt/conda/lib/python3.10/site-packages/setuptools/dist.py\", line 379, in _normalize_requires\r\n",
      "  \u001b[31m   \u001b[0m     self.install_requires = list(map(str, _reqs.parse(install_requires)))\r\n",
      "  \u001b[31m   \u001b[0m   File \"/opt/conda/lib/python3.10/site-packages/setuptools/_vendor/packaging/requirements.py\", line 37, in __init__\r\n",
      "  \u001b[31m   \u001b[0m     raise InvalidRequirement(str(e)) from e\r\n",
      "  \u001b[31m   \u001b[0m setuptools.extern.packaging.requirements.InvalidRequirement: Expected end or semicolon (after name and no valid version specifier)\r\n",
      "  \u001b[31m   \u001b[0m     python_version>\"3.7\"\r\n",
      "  \u001b[31m   \u001b[0m                   ^\r\n",
      "  \u001b[31m   \u001b[0m \u001b[31m[end of output]\u001b[0m\r\n",
      "  \r\n",
      "  \u001b[1;35mnote\u001b[0m: This error originates from a subprocess, and is likely not a problem with pip.\r\n",
      "\u001b[1;31merror\u001b[0m: \u001b[1mmetadata-generation-failed\u001b[0m\r\n",
      "\r\n",
      "\u001b[31m×\u001b[0m Encountered error while generating package metadata.\r\n",
      "\u001b[31m╰─>\u001b[0m See above for output.\r\n",
      "\r\n",
      "\u001b[1;35mnote\u001b[0m: This is an issue with the package mentioned above, not pip.\r\n",
      "\u001b[1;36mhint\u001b[0m: See above for details.\r\n",
      "\u001b[?25hRequirement already satisfied: tensorflow in /opt/conda/lib/python3.10/site-packages (2.15.0)\r\n",
      "Collecting tensorflow\r\n",
      "  Downloading tensorflow-2.17.0-cp310-cp310-manylinux_2_17_x86_64.manylinux2014_x86_64.whl.metadata (4.2 kB)\r\n",
      "Requirement already satisfied: absl-py>=1.0.0 in /opt/conda/lib/python3.10/site-packages (from tensorflow) (1.4.0)\r\n",
      "Requirement already satisfied: astunparse>=1.6.0 in /opt/conda/lib/python3.10/site-packages (from tensorflow) (1.6.3)\r\n",
      "Collecting flatbuffers>=24.3.25 (from tensorflow)\r\n",
      "  Downloading flatbuffers-24.3.25-py2.py3-none-any.whl.metadata (850 bytes)\r\n",
      "Requirement already satisfied: gast!=0.5.0,!=0.5.1,!=0.5.2,>=0.2.1 in /opt/conda/lib/python3.10/site-packages (from tensorflow) (0.5.4)\r\n",
      "Requirement already satisfied: google-pasta>=0.1.1 in /opt/conda/lib/python3.10/site-packages (from tensorflow) (0.2.0)\r\n",
      "Requirement already satisfied: h5py>=3.10.0 in /opt/conda/lib/python3.10/site-packages (from tensorflow) (3.10.0)\r\n",
      "Requirement already satisfied: libclang>=13.0.0 in /opt/conda/lib/python3.10/site-packages (from tensorflow) (16.0.6)\r\n",
      "Collecting ml-dtypes<0.5.0,>=0.3.1 (from tensorflow)\r\n",
      "  Downloading ml_dtypes-0.4.0-cp310-cp310-manylinux_2_17_x86_64.manylinux2014_x86_64.whl.metadata (20 kB)\r\n",
      "Requirement already satisfied: opt-einsum>=2.3.2 in /opt/conda/lib/python3.10/site-packages (from tensorflow) (3.3.0)\r\n",
      "Requirement already satisfied: packaging in /opt/conda/lib/python3.10/site-packages (from tensorflow) (21.3)\r\n",
      "Requirement already satisfied: protobuf!=4.21.0,!=4.21.1,!=4.21.2,!=4.21.3,!=4.21.4,!=4.21.5,<5.0.0dev,>=3.20.3 in /opt/conda/lib/python3.10/site-packages (from tensorflow) (3.20.3)\r\n",
      "Requirement already satisfied: requests<3,>=2.21.0 in /opt/conda/lib/python3.10/site-packages (from tensorflow) (2.32.3)\r\n",
      "Requirement already satisfied: setuptools in /opt/conda/lib/python3.10/site-packages (from tensorflow) (69.0.3)\r\n",
      "Requirement already satisfied: six>=1.12.0 in /opt/conda/lib/python3.10/site-packages (from tensorflow) (1.16.0)\r\n",
      "Requirement already satisfied: termcolor>=1.1.0 in /opt/conda/lib/python3.10/site-packages (from tensorflow) (2.4.0)\r\n",
      "Requirement already satisfied: typing-extensions>=3.6.6 in /opt/conda/lib/python3.10/site-packages (from tensorflow) (4.9.0)\r\n",
      "Requirement already satisfied: wrapt>=1.11.0 in /opt/conda/lib/python3.10/site-packages (from tensorflow) (1.14.1)\r\n",
      "Requirement already satisfied: grpcio<2.0,>=1.24.3 in /opt/conda/lib/python3.10/site-packages (from tensorflow) (1.60.0)\r\n",
      "Collecting tensorboard<2.18,>=2.17 (from tensorflow)\r\n",
      "  Downloading tensorboard-2.17.0-py3-none-any.whl.metadata (1.6 kB)\r\n",
      "Requirement already satisfied: keras>=3.2.0 in /opt/conda/lib/python3.10/site-packages (from tensorflow) (3.4.1)\r\n",
      "Requirement already satisfied: tensorflow-io-gcs-filesystem>=0.23.1 in /opt/conda/lib/python3.10/site-packages (from tensorflow) (0.35.0)\r\n",
      "Requirement already satisfied: numpy<2.0.0,>=1.23.5 in /opt/conda/lib/python3.10/site-packages (from tensorflow) (1.26.4)\r\n",
      "Requirement already satisfied: wheel<1.0,>=0.23.0 in /opt/conda/lib/python3.10/site-packages (from astunparse>=1.6.0->tensorflow) (0.42.0)\r\n",
      "Requirement already satisfied: rich in /opt/conda/lib/python3.10/site-packages (from keras>=3.2.0->tensorflow) (13.7.0)\r\n",
      "Requirement already satisfied: namex in /opt/conda/lib/python3.10/site-packages (from keras>=3.2.0->tensorflow) (0.0.8)\r\n",
      "Requirement already satisfied: optree in /opt/conda/lib/python3.10/site-packages (from keras>=3.2.0->tensorflow) (0.12.1)\r\n",
      "Requirement already satisfied: charset-normalizer<4,>=2 in /opt/conda/lib/python3.10/site-packages (from requests<3,>=2.21.0->tensorflow) (3.3.2)\r\n",
      "Requirement already satisfied: idna<4,>=2.5 in /opt/conda/lib/python3.10/site-packages (from requests<3,>=2.21.0->tensorflow) (3.6)\r\n",
      "Requirement already satisfied: urllib3<3,>=1.21.1 in /opt/conda/lib/python3.10/site-packages (from requests<3,>=2.21.0->tensorflow) (1.26.18)\r\n",
      "Requirement already satisfied: certifi>=2017.4.17 in /opt/conda/lib/python3.10/site-packages (from requests<3,>=2.21.0->tensorflow) (2024.7.4)\r\n",
      "Requirement already satisfied: markdown>=2.6.8 in /opt/conda/lib/python3.10/site-packages (from tensorboard<2.18,>=2.17->tensorflow) (3.5.2)\r\n",
      "Requirement already satisfied: tensorboard-data-server<0.8.0,>=0.7.0 in /opt/conda/lib/python3.10/site-packages (from tensorboard<2.18,>=2.17->tensorflow) (0.7.2)\r\n",
      "Requirement already satisfied: werkzeug>=1.0.1 in /opt/conda/lib/python3.10/site-packages (from tensorboard<2.18,>=2.17->tensorflow) (3.0.3)\r\n",
      "Requirement already satisfied: pyparsing!=3.0.5,>=2.0.2 in /opt/conda/lib/python3.10/site-packages (from packaging->tensorflow) (3.1.1)\r\n",
      "Requirement already satisfied: MarkupSafe>=2.1.1 in /opt/conda/lib/python3.10/site-packages (from werkzeug>=1.0.1->tensorboard<2.18,>=2.17->tensorflow) (2.1.3)\r\n",
      "Requirement already satisfied: markdown-it-py>=2.2.0 in /opt/conda/lib/python3.10/site-packages (from rich->keras>=3.2.0->tensorflow) (3.0.0)\r\n",
      "Requirement already satisfied: pygments<3.0.0,>=2.13.0 in /opt/conda/lib/python3.10/site-packages (from rich->keras>=3.2.0->tensorflow) (2.17.2)\r\n",
      "Requirement already satisfied: mdurl~=0.1 in /opt/conda/lib/python3.10/site-packages (from markdown-it-py>=2.2.0->rich->keras>=3.2.0->tensorflow) (0.1.2)\r\n",
      "Downloading tensorflow-2.17.0-cp310-cp310-manylinux_2_17_x86_64.manylinux2014_x86_64.whl (601.3 MB)\r\n",
      "\u001b[2K   \u001b[90m━━━━━━━━━━━━━━━━━━━━━━━━━━━━━━━━━━━━━━━━\u001b[0m \u001b[32m601.3/601.3 MB\u001b[0m \u001b[31m55.5 MB/s\u001b[0m eta \u001b[36m0:00:00\u001b[0m\r\n",
      "\u001b[?25hDownloading flatbuffers-24.3.25-py2.py3-none-any.whl (26 kB)\r\n",
      "Downloading ml_dtypes-0.4.0-cp310-cp310-manylinux_2_17_x86_64.manylinux2014_x86_64.whl (2.2 MB)\r\n",
      "\u001b[2K   \u001b[90m━━━━━━━━━━━━━━━━━━━━━━━━━━━━━━━━━━━━━━━━\u001b[0m \u001b[32m2.2/2.2 MB\u001b[0m \u001b[31m68.3 MB/s\u001b[0m eta \u001b[36m0:00:00\u001b[0m\r\n",
      "\u001b[?25hDownloading tensorboard-2.17.0-py3-none-any.whl (5.5 MB)\r\n",
      "\u001b[2K   \u001b[90m━━━━━━━━━━━━━━━━━━━━━━━━━━━━━━━━━━━━━━━━\u001b[0m \u001b[32m5.5/5.5 MB\u001b[0m \u001b[31m103.3 MB/s\u001b[0m eta \u001b[36m0:00:00\u001b[0m\r\n",
      "\u001b[?25hInstalling collected packages: flatbuffers, ml-dtypes, tensorboard, tensorflow\r\n",
      "  Attempting uninstall: flatbuffers\r\n",
      "    Found existing installation: flatbuffers 23.5.26\r\n",
      "    Uninstalling flatbuffers-23.5.26:\r\n",
      "      Successfully uninstalled flatbuffers-23.5.26\r\n",
      "  Attempting uninstall: ml-dtypes\r\n",
      "    Found existing installation: ml-dtypes 0.2.0\r\n",
      "    Uninstalling ml-dtypes-0.2.0:\r\n",
      "      Successfully uninstalled ml-dtypes-0.2.0\r\n",
      "  Attempting uninstall: tensorboard\r\n",
      "    Found existing installation: tensorboard 2.15.1\r\n",
      "    Uninstalling tensorboard-2.15.1:\r\n",
      "      Successfully uninstalled tensorboard-2.15.1\r\n",
      "  Attempting uninstall: tensorflow\r\n",
      "    Found existing installation: tensorflow 2.15.0\r\n",
      "    Uninstalling tensorflow-2.15.0:\r\n",
      "      Successfully uninstalled tensorflow-2.15.0\r\n",
      "\u001b[31mERROR: pip's dependency resolver does not currently take into account all the packages that are installed. This behaviour is the source of the following dependency conflicts.\r\n",
      "tensorflow-decision-forests 1.8.1 requires wurlitzer, which is not installed.\r\n",
      "tensorflow-decision-forests 1.8.1 requires tensorflow~=2.15.0, but you have tensorflow 2.17.0 which is incompatible.\r\n",
      "tensorflow-text 2.15.0 requires tensorflow<2.16,>=2.15.0; platform_machine != \"arm64\" or platform_system != \"Darwin\", but you have tensorflow 2.17.0 which is incompatible.\r\n",
      "tf-keras 2.15.1 requires tensorflow<2.16,>=2.15, but you have tensorflow 2.17.0 which is incompatible.\u001b[0m\u001b[31m\r\n",
      "\u001b[0mSuccessfully installed flatbuffers-24.3.25 ml-dtypes-0.4.0 tensorboard-2.17.0 tensorflow-2.17.0\r\n",
      "Requirement already satisfied: keras in /opt/conda/lib/python3.10/site-packages (3.4.1)\r\n",
      "Requirement already satisfied: absl-py in /opt/conda/lib/python3.10/site-packages (from keras) (1.4.0)\r\n",
      "Requirement already satisfied: numpy in /opt/conda/lib/python3.10/site-packages (from keras) (1.26.4)\r\n",
      "Requirement already satisfied: rich in /opt/conda/lib/python3.10/site-packages (from keras) (13.7.0)\r\n",
      "Requirement already satisfied: namex in /opt/conda/lib/python3.10/site-packages (from keras) (0.0.8)\r\n",
      "Requirement already satisfied: h5py in /opt/conda/lib/python3.10/site-packages (from keras) (3.10.0)\r\n",
      "Requirement already satisfied: optree in /opt/conda/lib/python3.10/site-packages (from keras) (0.12.1)\r\n",
      "Requirement already satisfied: ml-dtypes in /opt/conda/lib/python3.10/site-packages (from keras) (0.4.0)\r\n",
      "Requirement already satisfied: packaging in /opt/conda/lib/python3.10/site-packages (from keras) (21.3)\r\n",
      "Requirement already satisfied: typing-extensions>=4.5.0 in /opt/conda/lib/python3.10/site-packages (from optree->keras) (4.9.0)\r\n",
      "Requirement already satisfied: pyparsing!=3.0.5,>=2.0.2 in /opt/conda/lib/python3.10/site-packages (from packaging->keras) (3.1.1)\r\n",
      "Requirement already satisfied: markdown-it-py>=2.2.0 in /opt/conda/lib/python3.10/site-packages (from rich->keras) (3.0.0)\r\n",
      "Requirement already satisfied: pygments<3.0.0,>=2.13.0 in /opt/conda/lib/python3.10/site-packages (from rich->keras) (2.17.2)\r\n",
      "Requirement already satisfied: mdurl~=0.1 in /opt/conda/lib/python3.10/site-packages (from markdown-it-py>=2.2.0->rich->keras) (0.1.2)\r\n"
     ]
    }
   ],
   "source": [
    "!pip install --upgrade pip\n",
    "!pip install --upgrade tensorflow-gpu\n",
    "!pip install --upgrade tensorflow\n",
    "!pip install --upgrade keras"
   ]
  },
  {
   "cell_type": "code",
   "execution_count": 3,
   "id": "6d787e1c",
   "metadata": {
    "execution": {
     "iopub.execute_input": "2024-07-30T14:19:28.704471Z",
     "iopub.status.busy": "2024-07-30T14:19:28.704144Z",
     "iopub.status.idle": "2024-07-30T14:19:28.708558Z",
     "shell.execute_reply": "2024-07-30T14:19:28.707800Z"
    },
    "papermill": {
     "duration": 0.018531,
     "end_time": "2024-07-30T14:19:28.710389",
     "exception": false,
     "start_time": "2024-07-30T14:19:28.691858",
     "status": "completed"
    },
    "tags": []
   },
   "outputs": [],
   "source": [
    "path=\"/kaggle/input/creditcardfraud/creditcard.csv\""
   ]
  },
  {
   "cell_type": "code",
   "execution_count": 4,
   "id": "7d102361",
   "metadata": {
    "execution": {
     "iopub.execute_input": "2024-07-30T14:19:28.733785Z",
     "iopub.status.busy": "2024-07-30T14:19:28.733075Z",
     "iopub.status.idle": "2024-07-30T14:19:31.926301Z",
     "shell.execute_reply": "2024-07-30T14:19:31.925340Z"
    },
    "papermill": {
     "duration": 3.212808,
     "end_time": "2024-07-30T14:19:31.934230",
     "exception": false,
     "start_time": "2024-07-30T14:19:28.721422",
     "status": "completed"
    },
    "tags": []
   },
   "outputs": [],
   "source": [
    "df=pd.read_csv(path)"
   ]
  },
  {
   "cell_type": "code",
   "execution_count": 5,
   "id": "df013cac",
   "metadata": {
    "execution": {
     "iopub.execute_input": "2024-07-30T14:19:31.958343Z",
     "iopub.status.busy": "2024-07-30T14:19:31.958050Z",
     "iopub.status.idle": "2024-07-30T14:19:32.053020Z",
     "shell.execute_reply": "2024-07-30T14:19:32.052155Z"
    },
    "papermill": {
     "duration": 0.109141,
     "end_time": "2024-07-30T14:19:32.054962",
     "exception": false,
     "start_time": "2024-07-30T14:19:31.945821",
     "status": "completed"
    },
    "tags": []
   },
   "outputs": [
    {
     "data": {
      "text/html": [
       "<div>\n",
       "<style scoped>\n",
       "    .dataframe tbody tr th:only-of-type {\n",
       "        vertical-align: middle;\n",
       "    }\n",
       "\n",
       "    .dataframe tbody tr th {\n",
       "        vertical-align: top;\n",
       "    }\n",
       "\n",
       "    .dataframe thead th {\n",
       "        text-align: right;\n",
       "    }\n",
       "</style>\n",
       "<table border=\"1\" class=\"dataframe\">\n",
       "  <thead>\n",
       "    <tr style=\"text-align: right;\">\n",
       "      <th></th>\n",
       "      <th>Time</th>\n",
       "      <th>V1</th>\n",
       "      <th>V2</th>\n",
       "      <th>V3</th>\n",
       "      <th>V4</th>\n",
       "      <th>V5</th>\n",
       "      <th>V6</th>\n",
       "      <th>V7</th>\n",
       "      <th>V8</th>\n",
       "      <th>V9</th>\n",
       "      <th>...</th>\n",
       "      <th>V21</th>\n",
       "      <th>V22</th>\n",
       "      <th>V23</th>\n",
       "      <th>V24</th>\n",
       "      <th>V25</th>\n",
       "      <th>V26</th>\n",
       "      <th>V27</th>\n",
       "      <th>V28</th>\n",
       "      <th>Amount</th>\n",
       "      <th>Class</th>\n",
       "    </tr>\n",
       "  </thead>\n",
       "  <tbody>\n",
       "    <tr>\n",
       "      <th>0</th>\n",
       "      <td>0.0</td>\n",
       "      <td>-1.359807</td>\n",
       "      <td>-0.072781</td>\n",
       "      <td>2.536347</td>\n",
       "      <td>1.378155</td>\n",
       "      <td>-0.338321</td>\n",
       "      <td>0.462388</td>\n",
       "      <td>0.239599</td>\n",
       "      <td>0.098698</td>\n",
       "      <td>0.363787</td>\n",
       "      <td>...</td>\n",
       "      <td>-0.018307</td>\n",
       "      <td>0.277838</td>\n",
       "      <td>-0.110474</td>\n",
       "      <td>0.066928</td>\n",
       "      <td>0.128539</td>\n",
       "      <td>-0.189115</td>\n",
       "      <td>0.133558</td>\n",
       "      <td>-0.021053</td>\n",
       "      <td>149.62</td>\n",
       "      <td>0</td>\n",
       "    </tr>\n",
       "    <tr>\n",
       "      <th>1</th>\n",
       "      <td>0.0</td>\n",
       "      <td>1.191857</td>\n",
       "      <td>0.266151</td>\n",
       "      <td>0.166480</td>\n",
       "      <td>0.448154</td>\n",
       "      <td>0.060018</td>\n",
       "      <td>-0.082361</td>\n",
       "      <td>-0.078803</td>\n",
       "      <td>0.085102</td>\n",
       "      <td>-0.255425</td>\n",
       "      <td>...</td>\n",
       "      <td>-0.225775</td>\n",
       "      <td>-0.638672</td>\n",
       "      <td>0.101288</td>\n",
       "      <td>-0.339846</td>\n",
       "      <td>0.167170</td>\n",
       "      <td>0.125895</td>\n",
       "      <td>-0.008983</td>\n",
       "      <td>0.014724</td>\n",
       "      <td>2.69</td>\n",
       "      <td>0</td>\n",
       "    </tr>\n",
       "    <tr>\n",
       "      <th>2</th>\n",
       "      <td>1.0</td>\n",
       "      <td>-1.358354</td>\n",
       "      <td>-1.340163</td>\n",
       "      <td>1.773209</td>\n",
       "      <td>0.379780</td>\n",
       "      <td>-0.503198</td>\n",
       "      <td>1.800499</td>\n",
       "      <td>0.791461</td>\n",
       "      <td>0.247676</td>\n",
       "      <td>-1.514654</td>\n",
       "      <td>...</td>\n",
       "      <td>0.247998</td>\n",
       "      <td>0.771679</td>\n",
       "      <td>0.909412</td>\n",
       "      <td>-0.689281</td>\n",
       "      <td>-0.327642</td>\n",
       "      <td>-0.139097</td>\n",
       "      <td>-0.055353</td>\n",
       "      <td>-0.059752</td>\n",
       "      <td>378.66</td>\n",
       "      <td>0</td>\n",
       "    </tr>\n",
       "    <tr>\n",
       "      <th>3</th>\n",
       "      <td>1.0</td>\n",
       "      <td>-0.966272</td>\n",
       "      <td>-0.185226</td>\n",
       "      <td>1.792993</td>\n",
       "      <td>-0.863291</td>\n",
       "      <td>-0.010309</td>\n",
       "      <td>1.247203</td>\n",
       "      <td>0.237609</td>\n",
       "      <td>0.377436</td>\n",
       "      <td>-1.387024</td>\n",
       "      <td>...</td>\n",
       "      <td>-0.108300</td>\n",
       "      <td>0.005274</td>\n",
       "      <td>-0.190321</td>\n",
       "      <td>-1.175575</td>\n",
       "      <td>0.647376</td>\n",
       "      <td>-0.221929</td>\n",
       "      <td>0.062723</td>\n",
       "      <td>0.061458</td>\n",
       "      <td>123.50</td>\n",
       "      <td>0</td>\n",
       "    </tr>\n",
       "    <tr>\n",
       "      <th>4</th>\n",
       "      <td>2.0</td>\n",
       "      <td>-1.158233</td>\n",
       "      <td>0.877737</td>\n",
       "      <td>1.548718</td>\n",
       "      <td>0.403034</td>\n",
       "      <td>-0.407193</td>\n",
       "      <td>0.095921</td>\n",
       "      <td>0.592941</td>\n",
       "      <td>-0.270533</td>\n",
       "      <td>0.817739</td>\n",
       "      <td>...</td>\n",
       "      <td>-0.009431</td>\n",
       "      <td>0.798278</td>\n",
       "      <td>-0.137458</td>\n",
       "      <td>0.141267</td>\n",
       "      <td>-0.206010</td>\n",
       "      <td>0.502292</td>\n",
       "      <td>0.219422</td>\n",
       "      <td>0.215153</td>\n",
       "      <td>69.99</td>\n",
       "      <td>0</td>\n",
       "    </tr>\n",
       "  </tbody>\n",
       "</table>\n",
       "<p>5 rows × 31 columns</p>\n",
       "</div>"
      ],
      "text/plain": [
       "   Time        V1        V2        V3        V4        V5        V6        V7  \\\n",
       "0   0.0 -1.359807 -0.072781  2.536347  1.378155 -0.338321  0.462388  0.239599   \n",
       "1   0.0  1.191857  0.266151  0.166480  0.448154  0.060018 -0.082361 -0.078803   \n",
       "2   1.0 -1.358354 -1.340163  1.773209  0.379780 -0.503198  1.800499  0.791461   \n",
       "3   1.0 -0.966272 -0.185226  1.792993 -0.863291 -0.010309  1.247203  0.237609   \n",
       "4   2.0 -1.158233  0.877737  1.548718  0.403034 -0.407193  0.095921  0.592941   \n",
       "\n",
       "         V8        V9  ...       V21       V22       V23       V24       V25  \\\n",
       "0  0.098698  0.363787  ... -0.018307  0.277838 -0.110474  0.066928  0.128539   \n",
       "1  0.085102 -0.255425  ... -0.225775 -0.638672  0.101288 -0.339846  0.167170   \n",
       "2  0.247676 -1.514654  ...  0.247998  0.771679  0.909412 -0.689281 -0.327642   \n",
       "3  0.377436 -1.387024  ... -0.108300  0.005274 -0.190321 -1.175575  0.647376   \n",
       "4 -0.270533  0.817739  ... -0.009431  0.798278 -0.137458  0.141267 -0.206010   \n",
       "\n",
       "        V26       V27       V28  Amount  Class  \n",
       "0 -0.189115  0.133558 -0.021053  149.62      0  \n",
       "1  0.125895 -0.008983  0.014724    2.69      0  \n",
       "2 -0.139097 -0.055353 -0.059752  378.66      0  \n",
       "3 -0.221929  0.062723  0.061458  123.50      0  \n",
       "4  0.502292  0.219422  0.215153   69.99      0  \n",
       "\n",
       "[5 rows x 31 columns]"
      ]
     },
     "execution_count": 5,
     "metadata": {},
     "output_type": "execute_result"
    }
   ],
   "source": [
    "df.head()"
   ]
  },
  {
   "cell_type": "code",
   "execution_count": 6,
   "id": "afd70783",
   "metadata": {
    "execution": {
     "iopub.execute_input": "2024-07-30T14:19:32.079038Z",
     "iopub.status.busy": "2024-07-30T14:19:32.078771Z",
     "iopub.status.idle": "2024-07-30T14:19:32.117583Z",
     "shell.execute_reply": "2024-07-30T14:19:32.116622Z"
    },
    "papermill": {
     "duration": 0.053487,
     "end_time": "2024-07-30T14:19:32.119822",
     "exception": false,
     "start_time": "2024-07-30T14:19:32.066335",
     "status": "completed"
    },
    "tags": []
   },
   "outputs": [
    {
     "name": "stdout",
     "output_type": "stream",
     "text": [
      "shape of fine:  (284315, 31)\n",
      "shape of fraud:  (492, 31)\n",
      "0.17304750013189596  % of the data is fraud\n"
     ]
    }
   ],
   "source": [
    "fine=df[df[\"Class\"]==0]\n",
    "fraud=df[df[\"Class\"]==1]\n",
    "print(\"shape of fine: \",fine.shape)\n",
    "print(\"shape of fraud: \", fraud.shape)\n",
    "print(fraud.shape[0]/fine.shape[0]*100, \" % of the data is fraud\")"
   ]
  },
  {
   "cell_type": "code",
   "execution_count": 7,
   "id": "bf1ad2a7",
   "metadata": {
    "execution": {
     "iopub.execute_input": "2024-07-30T14:19:32.148739Z",
     "iopub.status.busy": "2024-07-30T14:19:32.148463Z",
     "iopub.status.idle": "2024-07-30T14:19:33.639255Z",
     "shell.execute_reply": "2024-07-30T14:19:33.638189Z"
    },
    "papermill": {
     "duration": 1.506744,
     "end_time": "2024-07-30T14:19:33.641618",
     "exception": false,
     "start_time": "2024-07-30T14:19:32.134874",
     "status": "completed"
    },
    "tags": []
   },
   "outputs": [],
   "source": [
    "from sklearn.model_selection import train_test_split\n",
    "X_train, X_test, y_train, y_test = train_test_split(fine.drop(columns=['Class']), fine['Class'], shuffle=True, test_size=0.2,random_state=0)"
   ]
  },
  {
   "cell_type": "code",
   "execution_count": 8,
   "id": "c337d3ca",
   "metadata": {
    "execution": {
     "iopub.execute_input": "2024-07-30T14:19:33.666684Z",
     "iopub.status.busy": "2024-07-30T14:19:33.666019Z",
     "iopub.status.idle": "2024-07-30T14:19:33.772618Z",
     "shell.execute_reply": "2024-07-30T14:19:33.771821Z"
    },
    "papermill": {
     "duration": 0.121523,
     "end_time": "2024-07-30T14:19:33.774933",
     "exception": false,
     "start_time": "2024-07-30T14:19:33.653410",
     "status": "completed"
    },
    "tags": []
   },
   "outputs": [],
   "source": [
    "from sklearn.preprocessing import StandardScaler\n",
    "scaler=StandardScaler()\n",
    "X_train=scaler.fit_transform(X_train)\n",
    "fraudX=scaler.transform(fraud.drop(columns=['Class']))\n",
    "X_test=scaler.transform(X_test)"
   ]
  },
  {
   "cell_type": "code",
   "execution_count": 9,
   "id": "cc98a328",
   "metadata": {
    "execution": {
     "iopub.execute_input": "2024-07-30T14:19:33.799951Z",
     "iopub.status.busy": "2024-07-30T14:19:33.799685Z",
     "iopub.status.idle": "2024-07-30T14:19:38.736040Z",
     "shell.execute_reply": "2024-07-30T14:19:38.735051Z"
    },
    "papermill": {
     "duration": 4.951619,
     "end_time": "2024-07-30T14:19:38.738477",
     "exception": false,
     "start_time": "2024-07-30T14:19:33.786858",
     "status": "completed"
    },
    "tags": []
   },
   "outputs": [
    {
     "name": "stderr",
     "output_type": "stream",
     "text": [
      "2024-07-30 14:19:34.139596: E external/local_xla/xla/stream_executor/cuda/cuda_fft.cc:485] Unable to register cuFFT factory: Attempting to register factory for plugin cuFFT when one has already been registered\n",
      "2024-07-30 14:19:34.157035: E external/local_xla/xla/stream_executor/cuda/cuda_dnn.cc:8454] Unable to register cuDNN factory: Attempting to register factory for plugin cuDNN when one has already been registered\n",
      "2024-07-30 14:19:34.163367: E external/local_xla/xla/stream_executor/cuda/cuda_blas.cc:1452] Unable to register cuBLAS factory: Attempting to register factory for plugin cuBLAS when one has already been registered\n"
     ]
    }
   ],
   "source": [
    "import numpy as np\n",
    "import pandas as pd\n",
    "from sklearn.model_selection import train_test_split\n",
    "from sklearn.preprocessing import StandardScaler\n",
    "from sklearn.metrics import accuracy_score\n",
    "import tensorflow as tf\n",
    "from tensorflow.keras import layers, models\n",
    "import matplotlib.pyplot as plt\n",
    "from tensorflow.keras.callbacks import EarlyStopping\n",
    "from tensorflow.keras.callbacks import ModelCheckpoint"
   ]
  },
  {
   "cell_type": "code",
   "execution_count": 10,
   "id": "c8cbba9c",
   "metadata": {
    "execution": {
     "iopub.execute_input": "2024-07-30T14:19:38.763488Z",
     "iopub.status.busy": "2024-07-30T14:19:38.762940Z",
     "iopub.status.idle": "2024-07-30T14:20:12.125544Z",
     "shell.execute_reply": "2024-07-30T14:20:12.124595Z"
    },
    "papermill": {
     "duration": 33.37747,
     "end_time": "2024-07-30T14:20:12.127797",
     "exception": false,
     "start_time": "2024-07-30T14:19:38.750327",
     "status": "completed"
    },
    "tags": []
   },
   "outputs": [
    {
     "name": "stderr",
     "output_type": "stream",
     "text": [
      "WARNING: All log messages before absl::InitializeLog() is called are written to STDERR\n",
      "I0000 00:00:1722349178.833866      25 cuda_executor.cc:1015] successful NUMA node read from SysFS had negative value (-1), but there must be at least one NUMA node, so returning NUMA node zero. See more at https://github.com/torvalds/linux/blob/v6.0/Documentation/ABI/testing/sysfs-bus-pci#L344-L355\n",
      "I0000 00:00:1722349179.000356      25 cuda_executor.cc:1015] successful NUMA node read from SysFS had negative value (-1), but there must be at least one NUMA node, so returning NUMA node zero. See more at https://github.com/torvalds/linux/blob/v6.0/Documentation/ABI/testing/sysfs-bus-pci#L344-L355\n",
      "I0000 00:00:1722349179.000662      25 cuda_executor.cc:1015] successful NUMA node read from SysFS had negative value (-1), but there must be at least one NUMA node, so returning NUMA node zero. See more at https://github.com/torvalds/linux/blob/v6.0/Documentation/ABI/testing/sysfs-bus-pci#L344-L355\n",
      "I0000 00:00:1722349179.007044      25 cuda_executor.cc:1015] successful NUMA node read from SysFS had negative value (-1), but there must be at least one NUMA node, so returning NUMA node zero. See more at https://github.com/torvalds/linux/blob/v6.0/Documentation/ABI/testing/sysfs-bus-pci#L344-L355\n",
      "I0000 00:00:1722349179.007371      25 cuda_executor.cc:1015] successful NUMA node read from SysFS had negative value (-1), but there must be at least one NUMA node, so returning NUMA node zero. See more at https://github.com/torvalds/linux/blob/v6.0/Documentation/ABI/testing/sysfs-bus-pci#L344-L355\n",
      "I0000 00:00:1722349179.007575      25 cuda_executor.cc:1015] successful NUMA node read from SysFS had negative value (-1), but there must be at least one NUMA node, so returning NUMA node zero. See more at https://github.com/torvalds/linux/blob/v6.0/Documentation/ABI/testing/sysfs-bus-pci#L344-L355\n",
      "I0000 00:00:1722349179.113284      25 cuda_executor.cc:1015] successful NUMA node read from SysFS had negative value (-1), but there must be at least one NUMA node, so returning NUMA node zero. See more at https://github.com/torvalds/linux/blob/v6.0/Documentation/ABI/testing/sysfs-bus-pci#L344-L355\n",
      "I0000 00:00:1722349179.113560      25 cuda_executor.cc:1015] successful NUMA node read from SysFS had negative value (-1), but there must be at least one NUMA node, so returning NUMA node zero. See more at https://github.com/torvalds/linux/blob/v6.0/Documentation/ABI/testing/sysfs-bus-pci#L344-L355\n",
      "I0000 00:00:1722349179.113756      25 cuda_executor.cc:1015] successful NUMA node read from SysFS had negative value (-1), but there must be at least one NUMA node, so returning NUMA node zero. See more at https://github.com/torvalds/linux/blob/v6.0/Documentation/ABI/testing/sysfs-bus-pci#L344-L355\n"
     ]
    },
    {
     "name": "stdout",
     "output_type": "stream",
     "text": [
      "Epoch 1/80\n"
     ]
    },
    {
     "name": "stderr",
     "output_type": "stream",
     "text": [
      "WARNING: All log messages before absl::InitializeLog() is called are written to STDERR\n",
      "I0000 00:00:1722349182.245551      91 service.cc:146] XLA service 0x7d0580011210 initialized for platform CUDA (this does not guarantee that XLA will be used). Devices:\n",
      "I0000 00:00:1722349182.245597      91 service.cc:154]   StreamExecutor device (0): Tesla P100-PCIE-16GB, Compute Capability 6.0\n"
     ]
    },
    {
     "name": "stdout",
     "output_type": "stream",
     "text": [
      "\u001b[1m 24/356\u001b[0m \u001b[32m━\u001b[0m\u001b[37m━━━━━━━━━━━━━━━━━━━\u001b[0m \u001b[1m2s\u001b[0m 7ms/step - loss: 0.8790"
     ]
    },
    {
     "name": "stderr",
     "output_type": "stream",
     "text": [
      "I0000 00:00:1722349185.281847      91 device_compiler.h:188] Compiled cluster using XLA!  This line is logged at most once for the lifetime of the process.\n"
     ]
    },
    {
     "name": "stdout",
     "output_type": "stream",
     "text": [
      "\u001b[1m356/356\u001b[0m \u001b[32m━━━━━━━━━━━━━━━━━━━━\u001b[0m\u001b[37m\u001b[0m \u001b[1m11s\u001b[0m 16ms/step - loss: 0.2805 - val_loss: 0.0797\n",
      "Epoch 2/80\n",
      "\u001b[1m356/356\u001b[0m \u001b[32m━━━━━━━━━━━━━━━━━━━━\u001b[0m\u001b[37m\u001b[0m \u001b[1m3s\u001b[0m 7ms/step - loss: 0.1219 - val_loss: 0.0728\n",
      "Epoch 3/80\n",
      "\u001b[1m356/356\u001b[0m \u001b[32m━━━━━━━━━━━━━━━━━━━━\u001b[0m\u001b[37m\u001b[0m \u001b[1m3s\u001b[0m 7ms/step - loss: 0.1188 - val_loss: 0.0596\n",
      "Epoch 4/80\n",
      "\u001b[1m356/356\u001b[0m \u001b[32m━━━━━━━━━━━━━━━━━━━━\u001b[0m\u001b[37m\u001b[0m \u001b[1m3s\u001b[0m 7ms/step - loss: 0.1128 - val_loss: 0.0608\n",
      "Epoch 5/80\n",
      "\u001b[1m356/356\u001b[0m \u001b[32m━━━━━━━━━━━━━━━━━━━━\u001b[0m\u001b[37m\u001b[0m \u001b[1m3s\u001b[0m 7ms/step - loss: 0.1047 - val_loss: 0.0797\n",
      "Epoch 6/80\n",
      "\u001b[1m356/356\u001b[0m \u001b[32m━━━━━━━━━━━━━━━━━━━━\u001b[0m\u001b[37m\u001b[0m \u001b[1m3s\u001b[0m 7ms/step - loss: 0.1203 - val_loss: 0.0514\n",
      "Epoch 7/80\n",
      "\u001b[1m356/356\u001b[0m \u001b[32m━━━━━━━━━━━━━━━━━━━━\u001b[0m\u001b[37m\u001b[0m \u001b[1m3s\u001b[0m 7ms/step - loss: 0.0991 - val_loss: 0.0724\n",
      "Epoch 8/80\n",
      "\u001b[1m356/356\u001b[0m \u001b[32m━━━━━━━━━━━━━━━━━━━━\u001b[0m\u001b[37m\u001b[0m \u001b[1m3s\u001b[0m 7ms/step - loss: 0.0827 - val_loss: 0.0707\n",
      "Epoch 9/80\n",
      "\u001b[1m356/356\u001b[0m \u001b[32m━━━━━━━━━━━━━━━━━━━━\u001b[0m\u001b[37m\u001b[0m \u001b[1m3s\u001b[0m 7ms/step - loss: 0.1227 - val_loss: 0.0709\n"
     ]
    }
   ],
   "source": [
    "# model.add(layers.Dropout(0.3))\n",
    "\n",
    "# Build the Autoencoder Model\n",
    "def build_autoencoder(input_shape):\n",
    "    model = models.Sequential()\n",
    "\n",
    "    # Encoder part\n",
    "    model.add(layers.InputLayer(shape=(input_shape,)))\n",
    "    \n",
    "    model.add(layers.Dense(2000))\n",
    "    model.add(layers.LeakyReLU(negative_slope=0.1)) \n",
    "    model.add(layers.Dropout(0.2))\n",
    "    \n",
    "    model.add(layers.Dense(1000))\n",
    "    model.add(layers.LeakyReLU(negative_slope=0.1))\n",
    "    model.add(layers.Dropout(0.2))\n",
    "     \n",
    "    model.add(layers.Dense(750))\n",
    "    model.add(layers.LeakyReLU(negative_slope=0.1))\n",
    "\n",
    "    model.add(layers.Dense(500))\n",
    "    model.add(layers.LeakyReLU(negative_slope=0.1))\n",
    "\n",
    "    model.add(layers.Dense(750))\n",
    "    model.add(layers.LeakyReLU(negative_slope=0.1))\n",
    "\n",
    "    model.add(layers.Dense(1000))\n",
    "    model.add(layers.LeakyReLU(negative_slope=0.1))\n",
    "    model.add(layers.Dropout(0.2))\n",
    "    \n",
    "    model.add(layers.Dense(2000))\n",
    "    model.add(layers.LeakyReLU(negative_slope=0.1))\n",
    "    model.add(layers.Dropout(0.2))\n",
    "\n",
    "    model.add(layers.Dense(260))\n",
    "    model.add(layers.LeakyReLU(negative_slope=0.1))\n",
    "\n",
    "    model.add(layers.Dense(input_shape, activation='linear'))\n",
    "\n",
    "    return model\n",
    "\n",
    "input_shape = X_train.shape[1]\n",
    "autoencoder = build_autoencoder(input_shape)\n",
    "\n",
    "# Compile the Model\n",
    "autoencoder.compile(optimizer='adam', loss='mse')\n",
    "\n",
    "early_stopping = EarlyStopping(monitor='val_loss', patience=3, restore_best_weights=True)\n",
    "checkpoint_path = \"/kaggle/input/creditcardfraud/autoencoder_weights.weights.h5\"\n",
    "# checkpoint = ModelCheckpoint(checkpoint_path, monitor='val_loss', save_best_only=True, save_weights_only=True, verbose=1)\n",
    "\n",
    "# Train the Autoencoder\n",
    "history = autoencoder.fit(\n",
    "    X_train, \n",
    "    X_train, \n",
    "    epochs=80, \n",
    "    batch_size=640, \n",
    "    shuffle=False, \n",
    "    validation_data=(X_test, X_test),\n",
    "    callbacks=[early_stopping]\n",
    ")"
   ]
  },
  {
   "cell_type": "code",
   "execution_count": 11,
   "id": "9b5de8df",
   "metadata": {
    "execution": {
     "iopub.execute_input": "2024-07-30T14:20:12.217539Z",
     "iopub.status.busy": "2024-07-30T14:20:12.217222Z",
     "iopub.status.idle": "2024-07-30T14:20:12.635700Z",
     "shell.execute_reply": "2024-07-30T14:20:12.634918Z"
    },
    "papermill": {
     "duration": 0.466637,
     "end_time": "2024-07-30T14:20:12.638972",
     "exception": false,
     "start_time": "2024-07-30T14:20:12.172335",
     "status": "completed"
    },
    "tags": []
   },
   "outputs": [
    {
     "data": {
      "image/png": "[encoded data removed]",
      "text/plain": [
       "<Figure size 1200x400 with 1 Axes>"
      ]
     },
     "metadata": {},
     "output_type": "display_data"
    }
   ],
   "source": [
    "# Plot Loss vs. Accuracy\n",
    "plt.figure(figsize=(12, 4))\n",
    "\n",
    "# Plot Training Loss\n",
    "plt.subplot(1, 1, 1)\n",
    "plt.plot(history.history['loss'], label='Training Loss')\n",
    "plt.plot(history.history['val_loss'], label='Validation Loss')\n",
    "plt.title('Training Loss and Validation Loss')\n",
    "plt.xlabel('Epochs')\n",
    "plt.ylabel('Loss')\n",
    "plt.grid(True)\n",
    "plt.legend()\n",
    "\n",
    "\n",
    "plt.tight_layout()\n",
    "plt.show()"
   ]
  },
  {
   "cell_type": "code",
   "execution_count": 12,
   "id": "25d40611",
   "metadata": {
    "execution": {
     "iopub.execute_input": "2024-07-30T14:20:12.731140Z",
     "iopub.status.busy": "2024-07-30T14:20:12.730851Z",
     "iopub.status.idle": "2024-07-30T14:20:17.065261Z",
     "shell.execute_reply": "2024-07-30T14:20:17.064445Z"
    },
    "papermill": {
     "duration": 4.382286,
     "end_time": "2024-07-30T14:20:17.067523",
     "exception": false,
     "start_time": "2024-07-30T14:20:12.685237",
     "status": "completed"
    },
    "tags": []
   },
   "outputs": [
    {
     "name": "stdout",
     "output_type": "stream",
     "text": [
      "\u001b[1m16/16\u001b[0m \u001b[32m━━━━━━━━━━━━━━━━━━━━\u001b[0m\u001b[37m\u001b[0m \u001b[1m1s\u001b[0m 24ms/step\n",
      "\u001b[1m1777/1777\u001b[0m \u001b[32m━━━━━━━━━━━━━━━━━━━━\u001b[0m\u001b[37m\u001b[0m \u001b[1m3s\u001b[0m 1ms/step\n"
     ]
    }
   ],
   "source": [
    "predictions_fraud = autoencoder.predict(fraudX)\n",
    "mse_fraud = np.mean(np.power(fraudX - predictions_fraud, 2), axis=1)\n",
    "\n",
    "predictions_fine = autoencoder.predict(X_test)\n",
    "mse_fine = np.mean(np.power(X_test - predictions_fine, 2), axis=1)\n"
   ]
  },
  {
   "cell_type": "code",
   "execution_count": 13,
   "id": "1414fad9",
   "metadata": {
    "execution": {
     "iopub.execute_input": "2024-07-30T14:20:17.166731Z",
     "iopub.status.busy": "2024-07-30T14:20:17.166413Z",
     "iopub.status.idle": "2024-07-30T14:20:18.478765Z",
     "shell.execute_reply": "2024-07-30T14:20:18.477952Z"
    },
    "papermill": {
     "duration": 1.364272,
     "end_time": "2024-07-30T14:20:18.481049",
     "exception": false,
     "start_time": "2024-07-30T14:20:17.116777",
     "status": "completed"
    },
    "tags": []
   },
   "outputs": [
    {
     "data": {
      "image/png": "[encoded data removed]",
      "text/plain": [
       "<Figure size 640x480 with 1 Axes>"
      ]
     },
     "metadata": {},
     "output_type": "display_data"
    },
    {
     "data": {
      "image/png": "[encoded data removed]",
      "text/plain": [
       "<Figure size 640x480 with 1 Axes>"
      ]
     },
     "metadata": {},
     "output_type": "display_data"
    }
   ],
   "source": [
    "bins = 100\n",
    "\n",
    "# Plot the distributions on the same graph\n",
    "plt.hist(mse_fine, bins=bins, color='blue', alpha=1, label='Fine Data')\n",
    "plt.xlabel('MSE')\n",
    "plt.ylabel('Frequency')\n",
    "plt.title('Distribution of Fine MSE')\n",
    "# plt.xlim(0, 20)\n",
    "plt.legend(loc='upper right')\n",
    "plt.show()\n",
    "\n",
    "plt.hist(mse_fraud, bins=bins*5, color='red', alpha=1, label='Fraud Data')\n",
    "plt.xlabel('MSE')\n",
    "plt.ylabel('Frequency')\n",
    "plt.title('Distribution of Fraud MSE')\n",
    "# plt.xlim(0, 20)\n",
    "plt.legend(loc='upper right')\n",
    "plt.show()\n"
   ]
  },
  {
   "cell_type": "code",
   "execution_count": 14,
   "id": "5204aaa8",
   "metadata": {
    "execution": {
     "iopub.execute_input": "2024-07-30T14:20:18.582203Z",
     "iopub.status.busy": "2024-07-30T14:20:18.581833Z",
     "iopub.status.idle": "2024-07-30T14:20:20.797112Z",
     "shell.execute_reply": "2024-07-30T14:20:20.796216Z"
    },
    "papermill": {
     "duration": 2.267696,
     "end_time": "2024-07-30T14:20:20.799104",
     "exception": false,
     "start_time": "2024-07-30T14:20:18.531408",
     "status": "completed"
    },
    "tags": []
   },
   "outputs": [
    {
     "data": {
      "image/png": "[encoded data removed]",
      "text/plain": [
       "<Figure size 640x480 with 1 Axes>"
      ]
     },
     "metadata": {},
     "output_type": "display_data"
    }
   ],
   "source": [
    "bins = 500  # Number of bins for the histogram\n",
    "\n",
    "# Compute histograms\n",
    "hist_fine, bin_edges_fine = np.histogram(mse_fine, bins=bins)\n",
    "hist_fraud, bin_edges_fraud = np.histogram(mse_fraud, bins=bins)\n",
    "\n",
    "# Ensure the bin edges are the same\n",
    "bin_edges = np.linspace(min(bin_edges_fine[0], bin_edges_fraud[0]), max(bin_edges_fine[-1], bin_edges_fraud[-1]), bins + 1)\n",
    "hist_fine, _ = np.histogram(mse_fine, bins=bin_edges)\n",
    "hist_fraud, _ = np.histogram(mse_fraud, bins=bin_edges)\n",
    "\n",
    "# Scale the histograms\n",
    "scaling_factor_fine = 1 / hist_fine.max()\n",
    "scaling_factor_fraud = 1 / hist_fraud.max()\n",
    "hist_scaled_fine = hist_fine * scaling_factor_fine\n",
    "hist_scaled_fraud = hist_fraud * scaling_factor_fraud\n",
    "\n",
    "# Plot the downscaled histograms\n",
    "plt.bar(bin_edges[:-1], hist_scaled_fraud, width=np.diff(bin_edges), color='red', alpha=0.5, label='Fraud Data')\n",
    "plt.bar(bin_edges[:-1], hist_scaled_fine, width=np.diff(bin_edges), color='blue', alpha=0.5, label='Fine Data')\n",
    "plt.xlabel('Value')\n",
    "plt.ylabel('Frequency (Scaled)')\n",
    "plt.title('Downscaled Histogram of Fine and Fraud Data')\n",
    "plt.legend()\n",
    "plt.show()"
   ]
  },
  {
   "cell_type": "code",
   "execution_count": 15,
   "id": "f36d37a9",
   "metadata": {
    "execution": {
     "iopub.execute_input": "2024-07-30T14:20:20.900244Z",
     "iopub.status.busy": "2024-07-30T14:20:20.899924Z",
     "iopub.status.idle": "2024-07-30T14:20:22.856005Z",
     "shell.execute_reply": "2024-07-30T14:20:22.855102Z"
    },
    "papermill": {
     "duration": 2.008648,
     "end_time": "2024-07-30T14:20:22.858131",
     "exception": false,
     "start_time": "2024-07-30T14:20:20.849483",
     "status": "completed"
    },
    "tags": []
   },
   "outputs": [
    {
     "data": {
      "image/png": "[encoded data removed]",
      "text/plain": [
       "<Figure size 640x480 with 1 Axes>"
      ]
     },
     "metadata": {},
     "output_type": "display_data"
    }
   ],
   "source": [
    "bins = 500  # Number of bins for the histogram\n",
    "\n",
    "# Compute histograms\n",
    "hist_fine, bin_edges_fine = np.histogram(mse_fine, bins=bins)\n",
    "hist_fraud, bin_edges_fraud = np.histogram(mse_fraud, bins=bins)\n",
    "\n",
    "# Ensure the bin edges are the same\n",
    "bin_edges = np.linspace(min(bin_edges_fine[0], bin_edges_fraud[0]), max(bin_edges_fine[-1], bin_edges_fraud[-1]), bins + 1)\n",
    "hist_fine, _ = np.histogram(mse_fine, bins=bin_edges)\n",
    "hist_fraud, _ = np.histogram(mse_fraud, bins=bin_edges)\n",
    "\n",
    "# Scale the histograms\n",
    "scaling_factor_fine = 1 / hist_fine.max()\n",
    "scaling_factor_fraud = 1 / hist_fraud.max()\n",
    "hist_scaled_fine = hist_fine * scaling_factor_fine\n",
    "hist_scaled_fraud = hist_fraud * scaling_factor_fraud\n",
    "\n",
    "# Plot the downscaled histograms\n",
    "plt.bar(bin_edges[:-1], hist_scaled_fraud, width=np.diff(bin_edges), color='red', alpha=0.5, label='Fraud Data')\n",
    "plt.bar(bin_edges[:-1], hist_scaled_fine, width=np.diff(bin_edges), color='blue', alpha=0.5, label='Fine Data')\n",
    "plt.xlabel('Value')\n",
    "plt.ylabel('Frequency (Scaled)')\n",
    "plt.title('Downscaled Histogram of Fine and Fraud Data')\n",
    "plt.legend()\n",
    "plt.xlim(0,5)\n",
    "plt.show()"
   ]
  },
  {
   "cell_type": "code",
   "execution_count": 16,
   "id": "e7e7b70b",
   "metadata": {
    "execution": {
     "iopub.execute_input": "2024-07-30T14:20:22.960850Z",
     "iopub.status.busy": "2024-07-30T14:20:22.960316Z",
     "iopub.status.idle": "2024-07-30T14:20:51.616109Z",
     "shell.execute_reply": "2024-07-30T14:20:51.615211Z"
    },
    "papermill": {
     "duration": 28.709418,
     "end_time": "2024-07-30T14:20:51.618423",
     "exception": false,
     "start_time": "2024-07-30T14:20:22.909005",
     "status": "completed"
    },
    "tags": []
   },
   "outputs": [
    {
     "name": "stdout",
     "output_type": "stream",
     "text": [
      "\u001b[1m1793/1793\u001b[0m \u001b[32m━━━━━━━━━━━━━━━━━━━━\u001b[0m\u001b[37m\u001b[0m \u001b[1m2s\u001b[0m 1ms/step\n"
     ]
    }
   ],
   "source": [
    "from sklearn.metrics import precision_score, recall_score, f1_score\n",
    "\n",
    "# Evaluate the Autoencoder\n",
    "predictions = autoencoder.predict(np.concatenate((X_test,fraudX), axis=0))\n",
    "mse = np.mean(np.power(np.concatenate((X_test,fraudX), axis=0) - predictions, 2), axis=1)\n",
    "\n",
    "# Ground truth for anomalies\n",
    "y_true = np.concatenate((np.array(y_test), fraud['Class'].values))\n",
    "\n",
    "# Lists to store metrics\n",
    "thresholds = np.linspace(0, 5, 300)\n",
    "precisions = []\n",
    "recalls = []\n",
    "f1_scores = []\n",
    "\n",
    "# Loop over different thresholds\n",
    "for threshold in thresholds:\n",
    "    # Classify anomalies based on the threshold\n",
    "    anomalies = mse > threshold\n",
    "    y_pred = anomalies.astype(int)\n",
    "\n",
    "    # Calculate precision, recall, and f1 score for class 1\n",
    "    try:\n",
    "        precision = precision_score(y_true, y_pred, pos_label=1,zero_division=0)\n",
    "    except ValueError:\n",
    "        precision = 0.0\n",
    "    try:\n",
    "        recall = recall_score(y_true, y_pred, pos_label=1,zero_division=0)\n",
    "    except ValueError:\n",
    "        recall = 0.0\n",
    "    try:\n",
    "        f1 = f1_score(y_true, y_pred, pos_label=1,zero_division=0)\n",
    "    except ValueError:\n",
    "        f1 = 0.0\n",
    "\n",
    "    precisions.append(precision)\n",
    "    recalls.append(recall)\n",
    "    f1_scores.append(f1)\n"
   ]
  },
  {
   "cell_type": "code",
   "execution_count": 17,
   "id": "034f4b24",
   "metadata": {
    "execution": {
     "iopub.execute_input": "2024-07-30T14:20:51.728055Z",
     "iopub.status.busy": "2024-07-30T14:20:51.727764Z",
     "iopub.status.idle": "2024-07-30T14:20:53.909753Z",
     "shell.execute_reply": "2024-07-30T14:20:53.908844Z"
    },
    "papermill": {
     "duration": 2.23819,
     "end_time": "2024-07-30T14:20:53.911688",
     "exception": false,
     "start_time": "2024-07-30T14:20:51.673498",
     "status": "completed"
    },
    "tags": []
   },
   "outputs": [
    {
     "name": "stderr",
     "output_type": "stream",
     "text": [
      "/opt/conda/lib/python3.10/site-packages/plotly/express/_core.py:2065: FutureWarning: When grouping with a length-1 list-like, you will need to pass a length-1 tuple to get_group in a future version of pandas. Pass `(name,)` instead of `name` to silence this warning.\n",
      "  sf: grouped.get_group(s if len(s) > 1 else s[0])\n"
     ]
    },
    {
     "data": {
      "text/html": [
       "        <script type=\"text/javascript\">\n",
       "        window.PlotlyConfig = {MathJaxConfig: 'local'};\n",
       "        if (window.MathJax && window.MathJax.Hub && window.MathJax.Hub.Config) {window.MathJax.Hub.Config({SVG: {font: \"STIX-Web\"}});}\n",
       "        if (typeof require !== 'undefined') {\n",
       "        require.undef(\"plotly\");\n",
       "        requirejs.config({\n",
       "            paths: {\n",
       "                'plotly': ['https://cdn.plot.ly/plotly-2.27.0.min']\n",
       "            }\n",
       "        });\n",
       "        require(['plotly'], function(Plotly) {\n",
       "            window._Plotly = Plotly;\n",
       "        });\n",
       "        }\n",
       "        </script>\n",
       "        "
      ]
     },
     "metadata": {},
     "output_type": "display_data"
    },
    {
     "data": {
      "text/html": [
       "<div>                            <div id=\"95a98719-105a-4bfa-88a9-e224b7b3e916\" class=\"plotly-graph-div\" style=\"height:525px; width:100%;\"></div>            <script type=\"text/javascript\">                require([\"plotly\"], function(Plotly) {                    window.PLOTLYENV=window.PLOTLYENV || {};                                    if (document.getElementById(\"95a98719-105a-4bfa-88a9-e224b7b3e916\")) {                    Plotly.newPlot(                        \"95a98719-105a-4bfa-88a9-e224b7b3e916\",                        [{\"hovertemplate\":\"Metric=Precision\\u003cbr\\u003eThreshold=%{x}\\u003cbr\\u003eScore=%{y}\\u003cextra\\u003e\\u003c\\u002fextra\\u003e\",\"legendgroup\":\"Precision\",\"line\":{\"color\":\"#636efa\",\"dash\":\"solid\"},\"marker\":{\"symbol\":\"circle\"},\"mode\":\"lines\",\"name\":\"Precision\",\"orientation\":\"v\",\"showlegend\":true,\"x\":[0.0,0.016722408026755852,0.033444816053511704,0.05016722408026755,0.06688963210702341,0.08361204013377926,0.1003344481605351,0.11705685618729096,0.13377926421404682,0.15050167224080266,0.16722408026755853,0.18394648829431437,0.2006688963210702,0.21739130434782608,0.23411371237458192,0.2508361204013378,0.26755852842809363,0.2842809364548495,0.3010033444816053,0.3177257525083612,0.33444816053511706,0.3511705685618729,0.36789297658862874,0.3846153846153846,0.4013377926421404,0.4180602006688963,0.43478260869565216,0.451505016722408,0.46822742474916385,0.4849498327759197,0.5016722408026756,0.5183946488294314,0.5351170568561873,0.5518394648829431,0.568561872909699,0.5852842809364548,0.6020066889632106,0.6187290969899665,0.6354515050167224,0.6521739130434783,0.6688963210702341,0.68561872909699,0.7023411371237458,0.7190635451505016,0.7357859531772575,0.7525083612040133,0.7692307692307692,0.785953177257525,0.8026755852842808,0.8193979933110368,0.8361204013377926,0.8528428093645485,0.8695652173913043,0.8862876254180602,0.903010033444816,0.9197324414715718,0.9364548494983277,0.9531772575250835,0.9698996655518394,0.9866220735785953,1.0033444816053512,1.020066889632107,1.0367892976588629,1.0535117056856187,1.0702341137123745,1.0869565217391304,1.1036789297658862,1.120401337792642,1.137123745819398,1.1538461538461537,1.1705685618729096,1.1872909698996654,1.2040133779264213,1.220735785953177,1.237458193979933,1.254180602006689,1.2709030100334449,1.2876254180602007,1.3043478260869565,1.3210702341137124,1.3377926421404682,1.354515050167224,1.37123745819398,1.3879598662207357,1.4046822742474916,1.4214046822742474,1.4381270903010033,1.4548494983277591,1.471571906354515,1.4882943143812708,1.5050167224080266,1.5217391304347825,1.5384615384615383,1.5551839464882942,1.57190635451505,1.5886287625418059,1.6053511705685617,1.6220735785953178,1.6387959866220736,1.6555183946488294,1.6722408026755853,1.6889632107023411,1.705685618729097,1.7224080267558528,1.7391304347826086,1.7558528428093645,1.7725752508361203,1.7892976588628762,1.806020066889632,1.8227424749163879,1.8394648829431437,1.8561872909698995,1.8729096989966554,1.8896321070234112,1.906354515050167,1.923076923076923,1.9397993311036787,1.9565217391304346,1.9732441471571907,1.9899665551839465,2.0066889632107023,2.023411371237458,2.040133779264214,2.0568561872909696,2.0735785953177257,2.0903010033444813,2.1070234113712374,2.123745819397993,2.140468227424749,2.157190635451505,2.1739130434782608,2.190635451505017,2.2073578595317724,2.2240802675585285,2.240802675585284,2.25752508361204,2.274247491638796,2.290969899665552,2.3076923076923075,2.3244147157190636,2.341137123745819,2.3578595317725752,2.374581939799331,2.391304347826087,2.4080267558528425,2.4247491638795986,2.441471571906354,2.4581939799331103,2.474916387959866,2.491638795986622,2.508361204013378,2.5250836120401337,2.5418060200668897,2.5585284280936453,2.5752508361204014,2.591973244147157,2.608695652173913,2.6254180602006687,2.6421404682274248,2.6588628762541804,2.6755852842809364,2.692307692307692,2.709030100334448,2.7257525083612038,2.74247491638796,2.7591973244147154,2.7759197324414715,2.792642140468227,2.809364548494983,2.826086956521739,2.842809364548495,2.859531772575251,2.8762541806020065,2.8929765886287626,2.9096989966555182,2.9264214046822743,2.94314381270903,2.959866220735786,2.9765886287625416,2.9933110367892977,3.0100334448160533,3.0267558528428093,3.043478260869565,3.060200668896321,3.0769230769230766,3.0936454849498327,3.1103678929765883,3.1270903010033444,3.1438127090301,3.160535117056856,3.1772575250836117,3.1939799331103678,3.2107023411371234,3.2274247491638794,3.2441471571906355,3.260869565217391,3.277591973244147,3.294314381270903,3.311036789297659,3.3277591973244145,3.3444816053511706,3.361204013377926,3.3779264214046822,3.394648829431438,3.411371237458194,3.4280936454849495,3.4448160535117056,3.4615384615384612,3.4782608695652173,3.494983277591973,3.511705685618729,3.5284280936454846,3.5451505016722407,3.5618729096989963,3.5785953177257523,3.5953177257525084,3.612040133779264,3.62876254180602,3.6454849498327757,3.6622073578595318,3.6789297658862874,3.6956521739130435,3.712374581939799,3.729096989966555,3.7458193979933108,3.762541806020067,3.7792642140468224,3.7959866220735785,3.812709030100334,3.82943143812709,3.846153846153846,3.862876254180602,3.8795986622073575,3.8963210702341136,3.913043478260869,3.9297658862876252,3.9464882943143813,3.963210702341137,3.979933110367893,3.9966555183946486,4.013377926421405,4.030100334448161,4.046822742474916,4.063545150501672,4.080267558528428,4.096989966555184,4.113712374581939,4.130434782608695,4.147157190635451,4.1638795986622075,4.180602006688963,4.197324414715719,4.214046822742475,4.230769230769231,4.247491638795986,4.264214046822742,4.280936454849498,4.297658862876254,4.31438127090301,4.331103678929765,4.3478260869565215,4.364548494983278,4.381270903010034,4.397993311036789,4.414715719063545,4.431438127090301,4.448160535117057,4.464882943143812,4.481605351170568,4.498327759197324,4.51505016722408,4.5317725752508355,4.548494983277592,4.565217391304348,4.581939799331104,4.598662207357859,4.615384615384615,4.632107023411371,4.648829431438127,4.665551839464883,4.682274247491638,4.698996655518394,4.7157190635451505,4.7324414715719065,4.749163879598662,4.765886287625418,4.782608695652174,4.79933110367893,4.816053511705685,4.832775919732441,4.849498327759197,4.866220735785953,4.882943143812708,4.8996655518394645,4.916387959866221,4.933110367892977,4.949832775919732,4.966555183946488,4.983277591973244,5.0],\"xaxis\":\"x\",\"y\":[0.008578153604742393,0.02167469433123379,0.04106832525381871,0.061148086522462564,0.08098591549295775,0.0987968533086534,0.11820462782269306,0.13548387096774195,0.1518572469045885,0.16889971579374746,0.18465655664585193,0.19597508385241974,0.21139896373056996,0.22338665195808052,0.23907910271546634,0.25108493490390577,0.2616883116883117,0.2734056987788331,0.2882689556509299,0.2975573649148779,0.3111455108359133,0.322373696872494,0.3336106489184692,0.34244235695986336,0.3529929577464789,0.36355394378966455,0.37511693171188026,0.3837320574162679,0.39585389930898324,0.40404040404040403,0.40816326530612246,0.4140786749482402,0.42328042328042326,0.4282655246252677,0.43322475570032576,0.4389438943894389,0.442350332594235,0.44831460674157303,0.45537757437070936,0.4627906976744186,0.4682352941176471,0.47205707491082044,0.4765906362545018,0.48592411260709917,0.48891625615763545,0.493167701863354,0.5,0.5031685678073511,0.5089743589743589,0.5115979381443299,0.5155844155844156,0.5169270833333334,0.5230566534914362,0.5314591700133868,0.5394021739130435,0.5430916552667578,0.546831955922865,0.552924791086351,0.5560224089635855,0.5599435825105783,0.5647226173541963,0.569583931133429,0.5745296671490593,0.5795620437956205,0.5829662261380323,0.5846833578792342,0.5875370919881305,0.5913173652694611,0.5948795180722891,0.5984848484848485,0.6021341463414634,0.6030534351145038,0.6039755351681957,0.6124031007751938,0.614307931570762,0.6220472440944882,0.625,0.6299840510366826,0.6309904153354633,0.6340288924558587,0.6381260096930533,0.6412337662337663,0.6454248366013072,0.6486042692939245,0.649671052631579,0.6518151815181518,0.6561461794019934,0.6588628762541806,0.6588628762541806,0.6599664991624791,0.6605042016806723,0.6616161616161617,0.6627318718381113,0.6632825719120136,0.6649659863945578,0.6706689536878216,0.6729776247848537,0.6788194444444444,0.68,0.681184668989547,0.6835664335664335,0.6859649122807018,0.689594356261023,0.693950177935943,0.6951871657754011,0.6976744186046512,0.7014388489208633,0.703971119133574,0.705244122965642,0.705244122965642,0.7065217391304348,0.7098540145985401,0.7137614678899082,0.7137614678899082,0.7171903881700554,0.7185185185185186,0.7211895910780669,0.7220149253731343,0.7220149253731343,0.7247191011235955,0.726078799249531,0.7255639097744361,0.7283018867924528,0.7277882797731569,0.7291666666666666,0.7305502846299811,0.7319391634980988,0.7347328244274809,0.7361376673040153,0.7361376673040153,0.7389635316698656,0.7403846153846154,0.7403846153846154,0.7403846153846154,0.7403846153846154,0.7403846153846154,0.7403846153846154,0.7418111753371869,0.7441860465116279,0.7456310679611651,0.746588693957115,0.748046875,0.748046875,0.7495107632093934,0.7509803921568627,0.7539370078740157,0.7554240631163708,0.7569169960474308,0.7569169960474308,0.7609561752988048,0.7609561752988048,0.7609561752988048,0.7624750499001997,0.762,0.762,0.7635270541082164,0.7665995975855131,0.7681451612903226,0.7681451612903226,0.7696969696969697,0.7696969696969697,0.7696969696969697,0.771255060728745,0.7728194726166329,0.7723577235772358,0.7723577235772358,0.7718940936863544,0.773469387755102,0.7766393442622951,0.7766393442622951,0.7793814432989691,0.78099173553719,0.78099173553719,0.7805383022774327,0.7821576763485477,0.7849686847599165,0.7866108786610879,0.7866108786610879,0.7861635220125787,0.7873684210526316,0.7873684210526316,0.7890295358649789,0.7910447761194029,0.790948275862069,0.790948275862069,0.7908496732026143,0.7916666666666666,0.7942477876106194,0.7933333333333333,0.7959641255605381,0.7945823927765236,0.7936507936507936,0.7931818181818182,0.7927107061503417,0.7931034482758621,0.792147806004619,0.7958236658932715,0.794392523364486,0.7934272300469484,0.7966903073286052,0.7962085308056872,0.7952380952380952,0.7956730769230769,0.7956730769230769,0.7956730769230769,0.7975903614457831,0.7966101694915254,0.7956204379562044,0.7956204379562044,0.7951219512195122,0.7970660146699267,0.7965686274509803,0.7980295566502463,0.7995049504950495,0.8009950248756219,0.800498753117207,0.8020050125313283,0.8020050125313283,0.8040201005025126,0.8045685279187818,0.8045685279187818,0.8040712468193384,0.8051282051282052,0.8046272493573264,0.8067010309278351,0.8067010309278351,0.8067010309278351,0.8067010309278351,0.8087855297157622,0.8082901554404145,0.8098958333333334,0.8115183246073299,0.8126649076517151,0.8116710875331565,0.8116710875331565,0.8116710875331565,0.8116710875331565,0.8138297872340425,0.8138297872340425,0.8138297872340425,0.8128342245989305,0.8150134048257373,0.8150134048257373,0.8145161290322581,0.8145161290322581,0.8140161725067385,0.8184281842818428,0.8184281842818428,0.8206521739130435,0.8228882833787466,0.8224043715846995,0.821917808219178,0.8209366391184573,0.8199445983379502,0.8199445983379502,0.8222222222222222,0.8217270194986073,0.8217270194986073,0.8235294117647058,0.8243626062322946,0.8267045454545454,0.8267045454545454,0.8290598290598291,0.8290598290598291,0.8290598290598291,0.8285714285714286,0.8265895953757225,0.8289855072463768,0.8289855072463768,0.8289855072463768,0.8289855072463768,0.8279883381924198,0.8269794721407625,0.8264705882352941,0.8289085545722714,0.8313609467455622,0.8313609467455622,0.8308605341246291,0.8308605341246291,0.8303571428571429,0.8328358208955224,0.8378378378378378,0.8378378378378378,0.8378378378378378,0.8373493975903614,0.8398791540785498,0.8398791540785498,0.8398791540785498,0.8398791540785498,0.8393939393939394,0.8393939393939394,0.8393939393939394,0.8393939393939394,0.8393939393939394,0.8393939393939394,0.8393939393939394,0.8393939393939394,0.8414634146341463,0.8414634146341463,0.8414634146341463],\"yaxis\":\"y\",\"type\":\"scatter\"},{\"hovertemplate\":\"Metric=Recall\\u003cbr\\u003eThreshold=%{x}\\u003cbr\\u003eScore=%{y}\\u003cextra\\u003e\\u003c\\u002fextra\\u003e\",\"legendgroup\":\"Recall\",\"line\":{\"color\":\"#EF553B\",\"dash\":\"solid\"},\"marker\":{\"symbol\":\"circle\"},\"mode\":\"lines\",\"name\":\"Recall\",\"orientation\":\"v\",\"showlegend\":true,\"x\":[0.0,0.016722408026755852,0.033444816053511704,0.05016722408026755,0.06688963210702341,0.08361204013377926,0.1003344481605351,0.11705685618729096,0.13377926421404682,0.15050167224080266,0.16722408026755853,0.18394648829431437,0.2006688963210702,0.21739130434782608,0.23411371237458192,0.2508361204013378,0.26755852842809363,0.2842809364548495,0.3010033444816053,0.3177257525083612,0.33444816053511706,0.3511705685618729,0.36789297658862874,0.3846153846153846,0.4013377926421404,0.4180602006688963,0.43478260869565216,0.451505016722408,0.46822742474916385,0.4849498327759197,0.5016722408026756,0.5183946488294314,0.5351170568561873,0.5518394648829431,0.568561872909699,0.5852842809364548,0.6020066889632106,0.6187290969899665,0.6354515050167224,0.6521739130434783,0.6688963210702341,0.68561872909699,0.7023411371237458,0.7190635451505016,0.7357859531772575,0.7525083612040133,0.7692307692307692,0.785953177257525,0.8026755852842808,0.8193979933110368,0.8361204013377926,0.8528428093645485,0.8695652173913043,0.8862876254180602,0.903010033444816,0.9197324414715718,0.9364548494983277,0.9531772575250835,0.9698996655518394,0.9866220735785953,1.0033444816053512,1.020066889632107,1.0367892976588629,1.0535117056856187,1.0702341137123745,1.0869565217391304,1.1036789297658862,1.120401337792642,1.137123745819398,1.1538461538461537,1.1705685618729096,1.1872909698996654,1.2040133779264213,1.220735785953177,1.237458193979933,1.254180602006689,1.2709030100334449,1.2876254180602007,1.3043478260869565,1.3210702341137124,1.3377926421404682,1.354515050167224,1.37123745819398,1.3879598662207357,1.4046822742474916,1.4214046822742474,1.4381270903010033,1.4548494983277591,1.471571906354515,1.4882943143812708,1.5050167224080266,1.5217391304347825,1.5384615384615383,1.5551839464882942,1.57190635451505,1.5886287625418059,1.6053511705685617,1.6220735785953178,1.6387959866220736,1.6555183946488294,1.6722408026755853,1.6889632107023411,1.705685618729097,1.7224080267558528,1.7391304347826086,1.7558528428093645,1.7725752508361203,1.7892976588628762,1.806020066889632,1.8227424749163879,1.8394648829431437,1.8561872909698995,1.8729096989966554,1.8896321070234112,1.906354515050167,1.923076923076923,1.9397993311036787,1.9565217391304346,1.9732441471571907,1.9899665551839465,2.0066889632107023,2.023411371237458,2.040133779264214,2.0568561872909696,2.0735785953177257,2.0903010033444813,2.1070234113712374,2.123745819397993,2.140468227424749,2.157190635451505,2.1739130434782608,2.190635451505017,2.2073578595317724,2.2240802675585285,2.240802675585284,2.25752508361204,2.274247491638796,2.290969899665552,2.3076923076923075,2.3244147157190636,2.341137123745819,2.3578595317725752,2.374581939799331,2.391304347826087,2.4080267558528425,2.4247491638795986,2.441471571906354,2.4581939799331103,2.474916387959866,2.491638795986622,2.508361204013378,2.5250836120401337,2.5418060200668897,2.5585284280936453,2.5752508361204014,2.591973244147157,2.608695652173913,2.6254180602006687,2.6421404682274248,2.6588628762541804,2.6755852842809364,2.692307692307692,2.709030100334448,2.7257525083612038,2.74247491638796,2.7591973244147154,2.7759197324414715,2.792642140468227,2.809364548494983,2.826086956521739,2.842809364548495,2.859531772575251,2.8762541806020065,2.8929765886287626,2.9096989966555182,2.9264214046822743,2.94314381270903,2.959866220735786,2.9765886287625416,2.9933110367892977,3.0100334448160533,3.0267558528428093,3.043478260869565,3.060200668896321,3.0769230769230766,3.0936454849498327,3.1103678929765883,3.1270903010033444,3.1438127090301,3.160535117056856,3.1772575250836117,3.1939799331103678,3.2107023411371234,3.2274247491638794,3.2441471571906355,3.260869565217391,3.277591973244147,3.294314381270903,3.311036789297659,3.3277591973244145,3.3444816053511706,3.361204013377926,3.3779264214046822,3.394648829431438,3.411371237458194,3.4280936454849495,3.4448160535117056,3.4615384615384612,3.4782608695652173,3.494983277591973,3.511705685618729,3.5284280936454846,3.5451505016722407,3.5618729096989963,3.5785953177257523,3.5953177257525084,3.612040133779264,3.62876254180602,3.6454849498327757,3.6622073578595318,3.6789297658862874,3.6956521739130435,3.712374581939799,3.729096989966555,3.7458193979933108,3.762541806020067,3.7792642140468224,3.7959866220735785,3.812709030100334,3.82943143812709,3.846153846153846,3.862876254180602,3.8795986622073575,3.8963210702341136,3.913043478260869,3.9297658862876252,3.9464882943143813,3.963210702341137,3.979933110367893,3.9966555183946486,4.013377926421405,4.030100334448161,4.046822742474916,4.063545150501672,4.080267558528428,4.096989966555184,4.113712374581939,4.130434782608695,4.147157190635451,4.1638795986622075,4.180602006688963,4.197324414715719,4.214046822742475,4.230769230769231,4.247491638795986,4.264214046822742,4.280936454849498,4.297658862876254,4.31438127090301,4.331103678929765,4.3478260869565215,4.364548494983278,4.381270903010034,4.397993311036789,4.414715719063545,4.431438127090301,4.448160535117057,4.464882943143812,4.481605351170568,4.498327759197324,4.51505016722408,4.5317725752508355,4.548494983277592,4.565217391304348,4.581939799331104,4.598662207357859,4.615384615384615,4.632107023411371,4.648829431438127,4.665551839464883,4.682274247491638,4.698996655518394,4.7157190635451505,4.7324414715719065,4.749163879598662,4.765886287625418,4.782608695652174,4.79933110367893,4.816053511705685,4.832775919732441,4.849498327759197,4.866220735785953,4.882943143812708,4.8996655518394645,4.916387959866221,4.933110367892977,4.949832775919732,4.966555183946488,4.983277591973244,5.0],\"xaxis\":\"x\",\"y\":[1.0,0.9512195121951219,0.9126016260162602,0.8963414634146342,0.8882113821138211,0.8678861788617886,0.8617886178861789,0.8536585365853658,0.8475609756097561,0.8455284552845529,0.8414634146341463,0.8313008130081301,0.8292682926829268,0.823170731707317,0.823170731707317,0.823170731707317,0.8191056910569106,0.8191056910569106,0.8191056910569106,0.8170731707317073,0.8170731707317073,0.8170731707317073,0.8150406504065041,0.8150406504065041,0.8150406504065041,0.8150406504065041,0.8150406504065041,0.8150406504065041,0.8150406504065041,0.8130081300813008,0.8130081300813008,0.8130081300813008,0.8130081300813008,0.8130081300813008,0.8109756097560976,0.8109756097560976,0.8109756097560976,0.8109756097560976,0.8089430894308943,0.8089430894308943,0.8089430894308943,0.806910569105691,0.806910569105691,0.806910569105691,0.806910569105691,0.806910569105691,0.806910569105691,0.806910569105691,0.806910569105691,0.806910569105691,0.806910569105691,0.806910569105691,0.806910569105691,0.806910569105691,0.806910569105691,0.806910569105691,0.806910569105691,0.806910569105691,0.806910569105691,0.806910569105691,0.806910569105691,0.806910569105691,0.806910569105691,0.806910569105691,0.806910569105691,0.806910569105691,0.8048780487804879,0.8028455284552846,0.8028455284552846,0.8028455284552846,0.8028455284552846,0.8028455284552846,0.8028455284552846,0.8028455284552846,0.8028455284552846,0.8028455284552846,0.8028455284552846,0.8028455284552846,0.8028455284552846,0.8028455284552846,0.8028455284552846,0.8028455284552846,0.8028455284552846,0.8028455284552846,0.8028455284552846,0.8028455284552846,0.8028455284552846,0.8008130081300813,0.8008130081300813,0.8008130081300813,0.7987804878048781,0.7987804878048781,0.7987804878048781,0.7967479674796748,0.7947154471544715,0.7947154471544715,0.7947154471544715,0.7947154471544715,0.7947154471544715,0.7947154471544715,0.7947154471544715,0.7947154471544715,0.7947154471544715,0.7926829268292683,0.7926829268292683,0.7926829268292683,0.7926829268292683,0.7926829268292683,0.7926829268292683,0.7926829268292683,0.7926829268292683,0.790650406504065,0.790650406504065,0.790650406504065,0.7886178861788617,0.7886178861788617,0.7886178861788617,0.7865853658536586,0.7865853658536586,0.7865853658536586,0.7865853658536586,0.7845528455284553,0.7845528455284553,0.782520325203252,0.782520325203252,0.782520325203252,0.782520325203252,0.782520325203252,0.782520325203252,0.782520325203252,0.782520325203252,0.782520325203252,0.782520325203252,0.782520325203252,0.782520325203252,0.782520325203252,0.782520325203252,0.782520325203252,0.7804878048780488,0.7804878048780488,0.7784552845528455,0.7784552845528455,0.7784552845528455,0.7784552845528455,0.7784552845528455,0.7784552845528455,0.7784552845528455,0.7784552845528455,0.7784552845528455,0.7764227642276422,0.7764227642276422,0.7764227642276422,0.7764227642276422,0.774390243902439,0.774390243902439,0.774390243902439,0.774390243902439,0.774390243902439,0.774390243902439,0.774390243902439,0.774390243902439,0.774390243902439,0.774390243902439,0.774390243902439,0.7723577235772358,0.7723577235772358,0.7703252032520326,0.7703252032520326,0.7703252032520326,0.7703252032520326,0.7682926829268293,0.7682926829268293,0.7682926829268293,0.766260162601626,0.766260162601626,0.7642276422764228,0.7642276422764228,0.7642276422764228,0.7621951219512195,0.7601626016260162,0.7601626016260162,0.7601626016260162,0.7540650406504065,0.7459349593495935,0.7459349593495935,0.7378048780487805,0.733739837398374,0.7296747967479674,0.725609756097561,0.7215447154471545,0.7154471544715447,0.7113821138211383,0.709349593495935,0.7073170731707317,0.7012195121951219,0.6971544715447154,0.6971544715447154,0.6910569105691057,0.6869918699186992,0.6849593495934959,0.6829268292682927,0.6788617886178862,0.6727642276422764,0.6727642276422764,0.6727642276422764,0.6727642276422764,0.6686991869918699,0.6646341463414634,0.6646341463414634,0.6626016260162602,0.6626016260162602,0.6605691056910569,0.6585365853658537,0.6565040650406504,0.6544715447154471,0.6524390243902439,0.6504065040650406,0.6504065040650406,0.6504065040650406,0.6443089430894309,0.6443089430894309,0.6422764227642277,0.6382113821138211,0.6361788617886179,0.6361788617886179,0.6361788617886179,0.6361788617886179,0.6361788617886179,0.6361788617886179,0.6341463414634146,0.6321138211382114,0.6300813008130082,0.6260162601626016,0.6219512195121951,0.6219512195121951,0.6219512195121951,0.6219512195121951,0.6219512195121951,0.6219512195121951,0.6219512195121951,0.6178861788617886,0.6178861788617886,0.6178861788617886,0.6158536585365854,0.6158536585365854,0.6138211382113821,0.6138211382113821,0.6138211382113821,0.6138211382113821,0.6138211382113821,0.6117886178861789,0.6097560975609756,0.6056910569105691,0.6016260162601627,0.6016260162601627,0.6016260162601627,0.5995934959349594,0.5995934959349594,0.5975609756097561,0.5914634146341463,0.5914634146341463,0.5914634146341463,0.5914634146341463,0.5914634146341463,0.5914634146341463,0.5894308943089431,0.5813008130081301,0.5813008130081301,0.5813008130081301,0.5813008130081301,0.5813008130081301,0.5772357723577236,0.573170731707317,0.5711382113821138,0.5711382113821138,0.5711382113821138,0.5711382113821138,0.5691056910569106,0.5691056910569106,0.5670731707317073,0.5670731707317073,0.5670731707317073,0.5670731707317073,0.5670731707317073,0.5650406504065041,0.5650406504065041,0.5650406504065041,0.5650406504065041,0.5650406504065041,0.5630081300813008,0.5630081300813008,0.5630081300813008,0.5630081300813008,0.5630081300813008,0.5630081300813008,0.5630081300813008,0.5630081300813008,0.5609756097560976,0.5609756097560976,0.5609756097560976],\"yaxis\":\"y\",\"type\":\"scatter\"},{\"hovertemplate\":\"Metric=F1 Score\\u003cbr\\u003eThreshold=%{x}\\u003cbr\\u003eScore=%{y}\\u003cextra\\u003e\\u003c\\u002fextra\\u003e\",\"legendgroup\":\"F1 Score\",\"line\":{\"color\":\"#00cc96\",\"dash\":\"solid\"},\"marker\":{\"symbol\":\"circle\"},\"mode\":\"lines\",\"name\":\"F1 Score\",\"orientation\":\"v\",\"showlegend\":true,\"x\":[0.0,0.016722408026755852,0.033444816053511704,0.05016722408026755,0.06688963210702341,0.08361204013377926,0.1003344481605351,0.11705685618729096,0.13377926421404682,0.15050167224080266,0.16722408026755853,0.18394648829431437,0.2006688963210702,0.21739130434782608,0.23411371237458192,0.2508361204013378,0.26755852842809363,0.2842809364548495,0.3010033444816053,0.3177257525083612,0.33444816053511706,0.3511705685618729,0.36789297658862874,0.3846153846153846,0.4013377926421404,0.4180602006688963,0.43478260869565216,0.451505016722408,0.46822742474916385,0.4849498327759197,0.5016722408026756,0.5183946488294314,0.5351170568561873,0.5518394648829431,0.568561872909699,0.5852842809364548,0.6020066889632106,0.6187290969899665,0.6354515050167224,0.6521739130434783,0.6688963210702341,0.68561872909699,0.7023411371237458,0.7190635451505016,0.7357859531772575,0.7525083612040133,0.7692307692307692,0.785953177257525,0.8026755852842808,0.8193979933110368,0.8361204013377926,0.8528428093645485,0.8695652173913043,0.8862876254180602,0.903010033444816,0.9197324414715718,0.9364548494983277,0.9531772575250835,0.9698996655518394,0.9866220735785953,1.0033444816053512,1.020066889632107,1.0367892976588629,1.0535117056856187,1.0702341137123745,1.0869565217391304,1.1036789297658862,1.120401337792642,1.137123745819398,1.1538461538461537,1.1705685618729096,1.1872909698996654,1.2040133779264213,1.220735785953177,1.237458193979933,1.254180602006689,1.2709030100334449,1.2876254180602007,1.3043478260869565,1.3210702341137124,1.3377926421404682,1.354515050167224,1.37123745819398,1.3879598662207357,1.4046822742474916,1.4214046822742474,1.4381270903010033,1.4548494983277591,1.471571906354515,1.4882943143812708,1.5050167224080266,1.5217391304347825,1.5384615384615383,1.5551839464882942,1.57190635451505,1.5886287625418059,1.6053511705685617,1.6220735785953178,1.6387959866220736,1.6555183946488294,1.6722408026755853,1.6889632107023411,1.705685618729097,1.7224080267558528,1.7391304347826086,1.7558528428093645,1.7725752508361203,1.7892976588628762,1.806020066889632,1.8227424749163879,1.8394648829431437,1.8561872909698995,1.8729096989966554,1.8896321070234112,1.906354515050167,1.923076923076923,1.9397993311036787,1.9565217391304346,1.9732441471571907,1.9899665551839465,2.0066889632107023,2.023411371237458,2.040133779264214,2.0568561872909696,2.0735785953177257,2.0903010033444813,2.1070234113712374,2.123745819397993,2.140468227424749,2.157190635451505,2.1739130434782608,2.190635451505017,2.2073578595317724,2.2240802675585285,2.240802675585284,2.25752508361204,2.274247491638796,2.290969899665552,2.3076923076923075,2.3244147157190636,2.341137123745819,2.3578595317725752,2.374581939799331,2.391304347826087,2.4080267558528425,2.4247491638795986,2.441471571906354,2.4581939799331103,2.474916387959866,2.491638795986622,2.508361204013378,2.5250836120401337,2.5418060200668897,2.5585284280936453,2.5752508361204014,2.591973244147157,2.608695652173913,2.6254180602006687,2.6421404682274248,2.6588628762541804,2.6755852842809364,2.692307692307692,2.709030100334448,2.7257525083612038,2.74247491638796,2.7591973244147154,2.7759197324414715,2.792642140468227,2.809364548494983,2.826086956521739,2.842809364548495,2.859531772575251,2.8762541806020065,2.8929765886287626,2.9096989966555182,2.9264214046822743,2.94314381270903,2.959866220735786,2.9765886287625416,2.9933110367892977,3.0100334448160533,3.0267558528428093,3.043478260869565,3.060200668896321,3.0769230769230766,3.0936454849498327,3.1103678929765883,3.1270903010033444,3.1438127090301,3.160535117056856,3.1772575250836117,3.1939799331103678,3.2107023411371234,3.2274247491638794,3.2441471571906355,3.260869565217391,3.277591973244147,3.294314381270903,3.311036789297659,3.3277591973244145,3.3444816053511706,3.361204013377926,3.3779264214046822,3.394648829431438,3.411371237458194,3.4280936454849495,3.4448160535117056,3.4615384615384612,3.4782608695652173,3.494983277591973,3.511705685618729,3.5284280936454846,3.5451505016722407,3.5618729096989963,3.5785953177257523,3.5953177257525084,3.612040133779264,3.62876254180602,3.6454849498327757,3.6622073578595318,3.6789297658862874,3.6956521739130435,3.712374581939799,3.729096989966555,3.7458193979933108,3.762541806020067,3.7792642140468224,3.7959866220735785,3.812709030100334,3.82943143812709,3.846153846153846,3.862876254180602,3.8795986622073575,3.8963210702341136,3.913043478260869,3.9297658862876252,3.9464882943143813,3.963210702341137,3.979933110367893,3.9966555183946486,4.013377926421405,4.030100334448161,4.046822742474916,4.063545150501672,4.080267558528428,4.096989966555184,4.113712374581939,4.130434782608695,4.147157190635451,4.1638795986622075,4.180602006688963,4.197324414715719,4.214046822742475,4.230769230769231,4.247491638795986,4.264214046822742,4.280936454849498,4.297658862876254,4.31438127090301,4.331103678929765,4.3478260869565215,4.364548494983278,4.381270903010034,4.397993311036789,4.414715719063545,4.431438127090301,4.448160535117057,4.464882943143812,4.481605351170568,4.498327759197324,4.51505016722408,4.5317725752508355,4.548494983277592,4.565217391304348,4.581939799331104,4.598662207357859,4.615384615384615,4.632107023411371,4.648829431438127,4.665551839464883,4.682274247491638,4.698996655518394,4.7157190635451505,4.7324414715719065,4.749163879598662,4.765886287625418,4.782608695652174,4.79933110367893,4.816053511705685,4.832775919732441,4.849498327759197,4.866220735785953,4.882943143812708,4.8996655518394645,4.916387959866221,4.933110367892977,4.949832775919732,4.966555183946488,4.983277591973244,5.0],\"xaxis\":\"x\",\"y\":[0.01701038947568586,0.04238362615468212,0.0785995623632385,0.11448598130841121,0.14843750000000003,0.17739925218113833,0.20789409168913953,0.23385300668151449,0.2575663990117356,0.2815566835871404,0.3028529626920264,0.3171772004652966,0.3369116432700248,0.351409978308026,0.3705397987191217,0.38479809976247026,0.39665354330708663,0.409969481180061,0.4264550264550265,0.43624525230602285,0.45067264573991034,0.46233467510063253,0.473435655253837,0.48226097414311475,0.4926289926289927,0.5028213166144201,0.5137732222934016,0.5217957059206246,0.532890365448505,0.5398110661268557,0.5434782608695652,0.5486968449931413,0.556715379262352,0.5610098176718092,0.5647558386411891,0.569593147751606,0.5724533715925394,0.577424023154848,0.5827232796486091,0.5887573964497042,0.593144560357675,0.595648912228057,0.5992452830188679,0.6065699006875477,0.6088957055214724,0.6121819583654586,0.6174183514774495,0.6198282591725214,0.6242138364779873,0.6261829652996845,0.6291600633914421,0.6301587301587303,0.6346922462030375,0.6408393866020984,0.6465798045602605,0.6492232215862632,0.6518883415435138,0.6561983471074381,0.6583747927031509,0.6611157368859284,0.6644351464435146,0.6677880571909167,0.6711749788672864,0.6745964316057775,0.6768968456947996,0.6780529461998293,0.679245283018868,0.6810344827586207,0.6833910034602076,0.685763888888889,0.6881533101045296,0.6887532693984306,0.6893542757417104,0.6948109058927,0.696035242290749,0.7009760425909494,0.7028469750889681,0.705987488829312,0.7066189624329159,0.7085201793721974,0.7110711071107111,0.7129963898916968,0.7155797101449275,0.7175295186194368,0.7181818181818181,0.7194899817850637,0.7221206581352835,0.7229357798165138,0.7229357798165138,0.7235996326905417,0.7230910763569457,0.7237569060773481,0.7244239631336405,0.7239150507848569,0.724074074074074,0.7274418604651163,0.7287977632805218,0.7322097378277154,0.7328959700093721,0.7335834896810506,0.7349624060150376,0.736346516007533,0.7384324834749764,0.7400379506641367,0.7407407407407409,0.7421503330161751,0.7442748091603054,0.745697896749522,0.7464114832535885,0.7464114832535885,0.7471264367816093,0.7480769230769231,0.7502410800385727,0.7502410800385727,0.7512100677637947,0.751937984496124,0.7533980582524272,0.7529182879377432,0.7529182879377432,0.7543859649122807,0.7551219512195122,0.75390625,0.7553816046966733,0.7541625857002938,0.7549019607843136,0.7556427870461235,0.756385068762279,0.7578740157480314,0.7586206896551724,0.7586206896551724,0.7601184600197431,0.7608695652173912,0.7608695652173912,0.7608695652173912,0.7608695652173912,0.7608695652173912,0.7608695652173912,0.76162215628091,0.761904761904762,0.76266137040715,0.7621890547263681,0.7629482071713147,0.7629482071713147,0.7637088733798605,0.7644710578842315,0.7660000000000001,0.7667667667667667,0.7675350701402804,0.7675350701402804,0.7686116700201208,0.7686116700201208,0.7686116700201208,0.7693856998992951,0.7681451612903226,0.7681451612903226,0.768920282542886,0.7704752275025278,0.771255060728745,0.771255060728745,0.7720364741641338,0.7720364741641338,0.7720364741641338,0.7728194726166329,0.7736040609137056,0.7723577235772358,0.7723577235772358,0.7711088504577823,0.7718940936863545,0.773469387755102,0.773469387755102,0.773797338792221,0.7745901639344263,0.7745901639344263,0.7733333333333333,0.7741273100616016,0.7744593202883626,0.775257731958763,0.775257731958763,0.7739938080495357,0.7735263702171665,0.7735263702171665,0.7743271221532092,0.7721123829344432,0.7677824267782426,0.7677824267782426,0.7634069400630915,0.7616033755274262,0.7605932203389829,0.7579617834394904,0.7569296375266524,0.7529411764705882,0.7502679528403001,0.7489270386266095,0.7475832438238453,0.7443365695792881,0.7416216216216216,0.743228602383532,0.7391304347826085,0.7363834422657952,0.7366120218579235,0.7352297592997813,0.732456140350877,0.7290748898678414,0.7290748898678414,0.7290748898678414,0.7298787210584343,0.7270718232044199,0.7242524916943521,0.7242524916943521,0.7228381374722838,0.7236403995560489,0.7222222222222222,0.7216035634743876,0.7209821428571429,0.720357941834452,0.7189249720044794,0.7182940516273849,0.7182940516273849,0.7191011235955057,0.7155756207674943,0.7155756207674943,0.7141242937853106,0.7120181405895691,0.7105561861520999,0.7113636363636364,0.7113636363636364,0.7113636363636364,0.7113636363636364,0.7121729237770194,0.7107061503416857,0.7100456621004566,0.7093821510297483,0.7072330654420208,0.7042577675489068,0.7042577675489068,0.7042577675489068,0.7042577675489068,0.7050691244239631,0.7050691244239631,0.7050691244239631,0.7020785219399539,0.7028901734104047,0.7028901734104047,0.701388888888889,0.701388888888889,0.6998841251448435,0.7015098722415795,0.7015098722415795,0.7023255813953487,0.7031431897555297,0.7016317016317016,0.7001166861143524,0.6970760233918128,0.6940211019929661,0.6940211019929661,0.6948356807511736,0.6933019976498237,0.6933019976498237,0.6925795053003534,0.688757396449704,0.6895734597156398,0.6895734597156398,0.6903914590747331,0.6903914590747331,0.6903914590747331,0.6888361045130641,0.6825775656324582,0.6833930704898447,0.6833930704898447,0.6833930704898447,0.6833930704898447,0.6802395209580839,0.6770708283313326,0.6754807692307693,0.6762936221419976,0.6771084337349398,0.6771084337349398,0.6755126658624849,0.6755126658624849,0.6739130434782609,0.6747279322853689,0.6763636363636363,0.6763636363636363,0.6763636363636363,0.6747572815533981,0.675577156743621,0.675577156743621,0.675577156743621,0.675577156743621,0.6739659367396593,0.6739659367396593,0.6739659367396593,0.6739659367396593,0.6739659367396593,0.6739659367396593,0.6739659367396593,0.6739659367396593,0.6731707317073171,0.6731707317073171,0.6731707317073171],\"yaxis\":\"y\",\"type\":\"scatter\"}],                        {\"template\":{\"data\":{\"barpolar\":[{\"marker\":{\"line\":{\"color\":\"white\",\"width\":0.5},\"pattern\":{\"fillmode\":\"overlay\",\"size\":10,\"solidity\":0.2}},\"type\":\"barpolar\"}],\"bar\":[{\"error_x\":{\"color\":\"#2a3f5f\"},\"error_y\":{\"color\":\"#2a3f5f\"},\"marker\":{\"line\":{\"color\":\"white\",\"width\":0.5},\"pattern\":{\"fillmode\":\"overlay\",\"size\":10,\"solidity\":0.2}},\"type\":\"bar\"}],\"carpet\":[{\"aaxis\":{\"endlinecolor\":\"#2a3f5f\",\"gridcolor\":\"#C8D4E3\",\"linecolor\":\"#C8D4E3\",\"minorgridcolor\":\"#C8D4E3\",\"startlinecolor\":\"#2a3f5f\"},\"baxis\":{\"endlinecolor\":\"#2a3f5f\",\"gridcolor\":\"#C8D4E3\",\"linecolor\":\"#C8D4E3\",\"minorgridcolor\":\"#C8D4E3\",\"startlinecolor\":\"#2a3f5f\"},\"type\":\"carpet\"}],\"choropleth\":[{\"colorbar\":{\"outlinewidth\":0,\"ticks\":\"\"},\"type\":\"choropleth\"}],\"contourcarpet\":[{\"colorbar\":{\"outlinewidth\":0,\"ticks\":\"\"},\"type\":\"contourcarpet\"}],\"contour\":[{\"colorbar\":{\"outlinewidth\":0,\"ticks\":\"\"},\"colorscale\":[[0.0,\"#0d0887\"],[0.1111111111111111,\"#46039f\"],[0.2222222222222222,\"#7201a8\"],[0.3333333333333333,\"#9c179e\"],[0.4444444444444444,\"#bd3786\"],[0.5555555555555556,\"#d8576b\"],[0.6666666666666666,\"#ed7953\"],[0.7777777777777778,\"#fb9f3a\"],[0.8888888888888888,\"#fdca26\"],[1.0,\"#f0f921\"]],\"type\":\"contour\"}],\"heatmapgl\":[{\"colorbar\":{\"outlinewidth\":0,\"ticks\":\"\"},\"colorscale\":[[0.0,\"#0d0887\"],[0.1111111111111111,\"#46039f\"],[0.2222222222222222,\"#7201a8\"],[0.3333333333333333,\"#9c179e\"],[0.4444444444444444,\"#bd3786\"],[0.5555555555555556,\"#d8576b\"],[0.6666666666666666,\"#ed7953\"],[0.7777777777777778,\"#fb9f3a\"],[0.8888888888888888,\"#fdca26\"],[1.0,\"#f0f921\"]],\"type\":\"heatmapgl\"}],\"heatmap\":[{\"colorbar\":{\"outlinewidth\":0,\"ticks\":\"\"},\"colorscale\":[[0.0,\"#0d0887\"],[0.1111111111111111,\"#46039f\"],[0.2222222222222222,\"#7201a8\"],[0.3333333333333333,\"#9c179e\"],[0.4444444444444444,\"#bd3786\"],[0.5555555555555556,\"#d8576b\"],[0.6666666666666666,\"#ed7953\"],[0.7777777777777778,\"#fb9f3a\"],[0.8888888888888888,\"#fdca26\"],[1.0,\"#f0f921\"]],\"type\":\"heatmap\"}],\"histogram2dcontour\":[{\"colorbar\":{\"outlinewidth\":0,\"ticks\":\"\"},\"colorscale\":[[0.0,\"#0d0887\"],[0.1111111111111111,\"#46039f\"],[0.2222222222222222,\"#7201a8\"],[0.3333333333333333,\"#9c179e\"],[0.4444444444444444,\"#bd3786\"],[0.5555555555555556,\"#d8576b\"],[0.6666666666666666,\"#ed7953\"],[0.7777777777777778,\"#fb9f3a\"],[0.8888888888888888,\"#fdca26\"],[1.0,\"#f0f921\"]],\"type\":\"histogram2dcontour\"}],\"histogram2d\":[{\"colorbar\":{\"outlinewidth\":0,\"ticks\":\"\"},\"colorscale\":[[0.0,\"#0d0887\"],[0.1111111111111111,\"#46039f\"],[0.2222222222222222,\"#7201a8\"],[0.3333333333333333,\"#9c179e\"],[0.4444444444444444,\"#bd3786\"],[0.5555555555555556,\"#d8576b\"],[0.6666666666666666,\"#ed7953\"],[0.7777777777777778,\"#fb9f3a\"],[0.8888888888888888,\"#fdca26\"],[1.0,\"#f0f921\"]],\"type\":\"histogram2d\"}],\"histogram\":[{\"marker\":{\"pattern\":{\"fillmode\":\"overlay\",\"size\":10,\"solidity\":0.2}},\"type\":\"histogram\"}],\"mesh3d\":[{\"colorbar\":{\"outlinewidth\":0,\"ticks\":\"\"},\"type\":\"mesh3d\"}],\"parcoords\":[{\"line\":{\"colorbar\":{\"outlinewidth\":0,\"ticks\":\"\"}},\"type\":\"parcoords\"}],\"pie\":[{\"automargin\":true,\"type\":\"pie\"}],\"scatter3d\":[{\"line\":{\"colorbar\":{\"outlinewidth\":0,\"ticks\":\"\"}},\"marker\":{\"colorbar\":{\"outlinewidth\":0,\"ticks\":\"\"}},\"type\":\"scatter3d\"}],\"scattercarpet\":[{\"marker\":{\"colorbar\":{\"outlinewidth\":0,\"ticks\":\"\"}},\"type\":\"scattercarpet\"}],\"scattergeo\":[{\"marker\":{\"colorbar\":{\"outlinewidth\":0,\"ticks\":\"\"}},\"type\":\"scattergeo\"}],\"scattergl\":[{\"marker\":{\"colorbar\":{\"outlinewidth\":0,\"ticks\":\"\"}},\"type\":\"scattergl\"}],\"scattermapbox\":[{\"marker\":{\"colorbar\":{\"outlinewidth\":0,\"ticks\":\"\"}},\"type\":\"scattermapbox\"}],\"scatterpolargl\":[{\"marker\":{\"colorbar\":{\"outlinewidth\":0,\"ticks\":\"\"}},\"type\":\"scatterpolargl\"}],\"scatterpolar\":[{\"marker\":{\"colorbar\":{\"outlinewidth\":0,\"ticks\":\"\"}},\"type\":\"scatterpolar\"}],\"scatter\":[{\"fillpattern\":{\"fillmode\":\"overlay\",\"size\":10,\"solidity\":0.2},\"type\":\"scatter\"}],\"scatterternary\":[{\"marker\":{\"colorbar\":{\"outlinewidth\":0,\"ticks\":\"\"}},\"type\":\"scatterternary\"}],\"surface\":[{\"colorbar\":{\"outlinewidth\":0,\"ticks\":\"\"},\"colorscale\":[[0.0,\"#0d0887\"],[0.1111111111111111,\"#46039f\"],[0.2222222222222222,\"#7201a8\"],[0.3333333333333333,\"#9c179e\"],[0.4444444444444444,\"#bd3786\"],[0.5555555555555556,\"#d8576b\"],[0.6666666666666666,\"#ed7953\"],[0.7777777777777778,\"#fb9f3a\"],[0.8888888888888888,\"#fdca26\"],[1.0,\"#f0f921\"]],\"type\":\"surface\"}],\"table\":[{\"cells\":{\"fill\":{\"color\":\"#EBF0F8\"},\"line\":{\"color\":\"white\"}},\"header\":{\"fill\":{\"color\":\"#C8D4E3\"},\"line\":{\"color\":\"white\"}},\"type\":\"table\"}]},\"layout\":{\"annotationdefaults\":{\"arrowcolor\":\"#2a3f5f\",\"arrowhead\":0,\"arrowwidth\":1},\"autotypenumbers\":\"strict\",\"coloraxis\":{\"colorbar\":{\"outlinewidth\":0,\"ticks\":\"\"}},\"colorscale\":{\"diverging\":[[0,\"#8e0152\"],[0.1,\"#c51b7d\"],[0.2,\"#de77ae\"],[0.3,\"#f1b6da\"],[0.4,\"#fde0ef\"],[0.5,\"#f7f7f7\"],[0.6,\"#e6f5d0\"],[0.7,\"#b8e186\"],[0.8,\"#7fbc41\"],[0.9,\"#4d9221\"],[1,\"#276419\"]],\"sequential\":[[0.0,\"#0d0887\"],[0.1111111111111111,\"#46039f\"],[0.2222222222222222,\"#7201a8\"],[0.3333333333333333,\"#9c179e\"],[0.4444444444444444,\"#bd3786\"],[0.5555555555555556,\"#d8576b\"],[0.6666666666666666,\"#ed7953\"],[0.7777777777777778,\"#fb9f3a\"],[0.8888888888888888,\"#fdca26\"],[1.0,\"#f0f921\"]],\"sequentialminus\":[[0.0,\"#0d0887\"],[0.1111111111111111,\"#46039f\"],[0.2222222222222222,\"#7201a8\"],[0.3333333333333333,\"#9c179e\"],[0.4444444444444444,\"#bd3786\"],[0.5555555555555556,\"#d8576b\"],[0.6666666666666666,\"#ed7953\"],[0.7777777777777778,\"#fb9f3a\"],[0.8888888888888888,\"#fdca26\"],[1.0,\"#f0f921\"]]},\"colorway\":[\"#636efa\",\"#EF553B\",\"#00cc96\",\"#ab63fa\",\"#FFA15A\",\"#19d3f3\",\"#FF6692\",\"#B6E880\",\"#FF97FF\",\"#FECB52\"],\"font\":{\"color\":\"#2a3f5f\"},\"geo\":{\"bgcolor\":\"white\",\"lakecolor\":\"white\",\"landcolor\":\"white\",\"showlakes\":true,\"showland\":true,\"subunitcolor\":\"#C8D4E3\"},\"hoverlabel\":{\"align\":\"left\"},\"hovermode\":\"closest\",\"mapbox\":{\"style\":\"light\"},\"paper_bgcolor\":\"white\",\"plot_bgcolor\":\"white\",\"polar\":{\"angularaxis\":{\"gridcolor\":\"#EBF0F8\",\"linecolor\":\"#EBF0F8\",\"ticks\":\"\"},\"bgcolor\":\"white\",\"radialaxis\":{\"gridcolor\":\"#EBF0F8\",\"linecolor\":\"#EBF0F8\",\"ticks\":\"\"}},\"scene\":{\"xaxis\":{\"backgroundcolor\":\"white\",\"gridcolor\":\"#DFE8F3\",\"gridwidth\":2,\"linecolor\":\"#EBF0F8\",\"showbackground\":true,\"ticks\":\"\",\"zerolinecolor\":\"#EBF0F8\"},\"yaxis\":{\"backgroundcolor\":\"white\",\"gridcolor\":\"#DFE8F3\",\"gridwidth\":2,\"linecolor\":\"#EBF0F8\",\"showbackground\":true,\"ticks\":\"\",\"zerolinecolor\":\"#EBF0F8\"},\"zaxis\":{\"backgroundcolor\":\"white\",\"gridcolor\":\"#DFE8F3\",\"gridwidth\":2,\"linecolor\":\"#EBF0F8\",\"showbackground\":true,\"ticks\":\"\",\"zerolinecolor\":\"#EBF0F8\"}},\"shapedefaults\":{\"line\":{\"color\":\"#2a3f5f\"}},\"ternary\":{\"aaxis\":{\"gridcolor\":\"#DFE8F3\",\"linecolor\":\"#A2B1C6\",\"ticks\":\"\"},\"baxis\":{\"gridcolor\":\"#DFE8F3\",\"linecolor\":\"#A2B1C6\",\"ticks\":\"\"},\"bgcolor\":\"white\",\"caxis\":{\"gridcolor\":\"#DFE8F3\",\"linecolor\":\"#A2B1C6\",\"ticks\":\"\"}},\"title\":{\"x\":0.05},\"xaxis\":{\"automargin\":true,\"gridcolor\":\"#EBF0F8\",\"linecolor\":\"#EBF0F8\",\"ticks\":\"\",\"title\":{\"standoff\":15},\"zerolinecolor\":\"#EBF0F8\",\"zerolinewidth\":2},\"yaxis\":{\"automargin\":true,\"gridcolor\":\"#EBF0F8\",\"linecolor\":\"#EBF0F8\",\"ticks\":\"\",\"title\":{\"standoff\":15},\"zerolinecolor\":\"#EBF0F8\",\"zerolinewidth\":2}}},\"xaxis\":{\"anchor\":\"y\",\"domain\":[0.0,1.0],\"title\":{\"text\":\"Threshold\"}},\"yaxis\":{\"anchor\":\"x\",\"domain\":[0.0,1.0],\"title\":{\"text\":\"Score\"}},\"legend\":{\"title\":{\"text\":\"Metric\"},\"tracegroupgap\":0},\"title\":{\"text\":\"Threshold vs Precision, Recall, and F1 Score\"}},                        {\"responsive\": true}                    ).then(function(){\n",
       "                            \n",
       "var gd = document.getElementById('95a98719-105a-4bfa-88a9-e224b7b3e916');\n",
       "var x = new MutationObserver(function (mutations, observer) {{\n",
       "        var display = window.getComputedStyle(gd).display;\n",
       "        if (!display || display === 'none') {{\n",
       "            console.log([gd, 'removed!']);\n",
       "            Plotly.purge(gd);\n",
       "            observer.disconnect();\n",
       "        }}\n",
       "}});\n",
       "\n",
       "// Listen for the removal of the full notebook cells\n",
       "var notebookContainer = gd.closest('#notebook-container');\n",
       "if (notebookContainer) {{\n",
       "    x.observe(notebookContainer, {childList: true});\n",
       "}}\n",
       "\n",
       "// Listen for the clearing of the current output cell\n",
       "var outputEl = gd.closest('.output');\n",
       "if (outputEl) {{\n",
       "    x.observe(outputEl, {childList: true});\n",
       "}}\n",
       "\n",
       "                        })                };                });            </script>        </div>"
      ]
     },
     "metadata": {},
     "output_type": "display_data"
    }
   ],
   "source": [
    "import plotly.express as px\n",
    "\n",
    "# Create a DataFrame\n",
    "df = pd.DataFrame({\n",
    "    'Threshold': thresholds,\n",
    "    'Precision': precisions,\n",
    "    'Recall': recalls,\n",
    "    'F1 Score': f1_scores\n",
    "})\n",
    "\n",
    "# Melt the DataFrame\n",
    "df_melted = df.melt(id_vars='Threshold', var_name='Metric', value_name='Score')\n",
    "\n",
    "# Create the plot\n",
    "fig = px.line(df_melted, x='Threshold', y='Score', color='Metric',\n",
    "              title='Threshold vs Precision, Recall, and F1 Score',\n",
    "              labels={'Score': 'Score', 'Threshold': 'Threshold'},\n",
    "              template='plotly_white')\n",
    "\n",
    "# Show the plot\n",
    "fig.show()"
   ]
  },
  {
   "cell_type": "code",
   "execution_count": 18,
   "id": "121a24e2",
   "metadata": {
    "execution": {
     "iopub.execute_input": "2024-07-30T14:20:54.064454Z",
     "iopub.status.busy": "2024-07-30T14:20:54.064086Z",
     "iopub.status.idle": "2024-07-30T14:20:54.205616Z",
     "shell.execute_reply": "2024-07-30T14:20:54.204388Z"
    },
    "papermill": {
     "duration": 0.199924,
     "end_time": "2024-07-30T14:20:54.208307",
     "exception": false,
     "start_time": "2024-07-30T14:20:54.008383",
     "status": "completed"
    },
    "tags": []
   },
   "outputs": [
    {
     "name": "stdout",
     "output_type": "stream",
     "text": [
      "              precision    recall  f1-score   support\n",
      "\n",
      "           0       1.00      1.00      1.00     56863\n",
      "           1       0.79      0.76      0.78       492\n",
      "\n",
      "    accuracy                           1.00     57355\n",
      "   macro avg       0.89      0.88      0.89     57355\n",
      "weighted avg       1.00      1.00      1.00     57355\n",
      "\n"
     ]
    }
   ],
   "source": [
    "from sklearn.metrics import classification_report\n",
    "\n",
    "optimum_threshold=thresholds[np.argmax(f1_scores)]\n",
    "# Classify anomalies based on the threshold\n",
    "anomalies = mse > optimum_threshold\n",
    "y_pred = anomalies.astype(int)\n",
    "\n",
    "# Calculate precision, recall, and f1 score\n",
    "report = classification_report(y_true, y_pred)\n",
    "\n",
    "print(report)"
   ]
  },
  {
   "cell_type": "code",
   "execution_count": 19,
   "id": "e01180fc",
   "metadata": {
    "execution": {
     "iopub.execute_input": "2024-07-30T14:20:54.320559Z",
     "iopub.status.busy": "2024-07-30T14:20:54.320145Z",
     "iopub.status.idle": "2024-07-30T14:20:54.909391Z",
     "shell.execute_reply": "2024-07-30T14:20:54.908202Z"
    },
    "papermill": {
     "duration": 0.647042,
     "end_time": "2024-07-30T14:20:54.911021",
     "exception": true,
     "start_time": "2024-07-30T14:20:54.263979",
     "status": "failed"
    },
    "tags": []
   },
   "outputs": [
    {
     "ename": "ValueError",
     "evalue": "DataFrame constructor not properly called!",
     "output_type": "error",
     "traceback": [
      "\u001b[0;31m---------------------------------------------------------------------------\u001b[0m",
      "\u001b[0;31mValueError\u001b[0m                                Traceback (most recent call last)",
      "\u001b[0;32m/tmp/ipykernel_25/4073720219.py\u001b[0m in \u001b[0;36m?\u001b[0;34m()\u001b[0m\n\u001b[0;32m----> 1\u001b[0;31m \u001b[0mdf_report\u001b[0m \u001b[0;34m=\u001b[0m \u001b[0mpd\u001b[0m\u001b[0;34m.\u001b[0m\u001b[0mDataFrame\u001b[0m\u001b[0;34m(\u001b[0m\u001b[0mreport\u001b[0m\u001b[0;34m)\u001b[0m\u001b[0;34m.\u001b[0m\u001b[0mtranspose\u001b[0m\u001b[0;34m(\u001b[0m\u001b[0;34m)\u001b[0m\u001b[0;34m\u001b[0m\u001b[0;34m\u001b[0m\u001b[0m\n\u001b[0m\u001b[1;32m      2\u001b[0m \u001b[0;34m\u001b[0m\u001b[0m\n\u001b[1;32m      3\u001b[0m \u001b[0mplt\u001b[0m\u001b[0;34m.\u001b[0m\u001b[0mfigure\u001b[0m\u001b[0;34m(\u001b[0m\u001b[0mfigsize\u001b[0m\u001b[0;34m=\u001b[0m\u001b[0;34m(\u001b[0m\u001b[0;36m10\u001b[0m\u001b[0;34m,\u001b[0m \u001b[0;36m6\u001b[0m\u001b[0;34m)\u001b[0m\u001b[0;34m)\u001b[0m\u001b[0;34m\u001b[0m\u001b[0;34m\u001b[0m\u001b[0m\n\u001b[1;32m      4\u001b[0m \u001b[0msns\u001b[0m\u001b[0;34m.\u001b[0m\u001b[0mheatmap\u001b[0m\u001b[0;34m(\u001b[0m\u001b[0mdf_report\u001b[0m\u001b[0;34m.\u001b[0m\u001b[0miloc\u001b[0m\u001b[0;34m[\u001b[0m\u001b[0;34m:\u001b[0m\u001b[0;34m-\u001b[0m\u001b[0;36m1\u001b[0m\u001b[0;34m,\u001b[0m \u001b[0;34m:\u001b[0m\u001b[0;34m]\u001b[0m\u001b[0;34m.\u001b[0m\u001b[0mT\u001b[0m\u001b[0;34m,\u001b[0m \u001b[0mannot\u001b[0m\u001b[0;34m=\u001b[0m\u001b[0;32mTrue\u001b[0m\u001b[0;34m,\u001b[0m \u001b[0mcmap\u001b[0m\u001b[0;34m=\u001b[0m\u001b[0;34m\"Blues\"\u001b[0m\u001b[0;34m,\u001b[0m \u001b[0mcbar\u001b[0m\u001b[0;34m=\u001b[0m\u001b[0;32mFalse\u001b[0m\u001b[0;34m,\u001b[0m \u001b[0mfmt\u001b[0m\u001b[0;34m=\u001b[0m\u001b[0;34m\".2f\"\u001b[0m\u001b[0;34m)\u001b[0m\u001b[0;34m\u001b[0m\u001b[0;34m\u001b[0m\u001b[0m\n",
      "\u001b[0;32m/opt/conda/lib/python3.10/site-packages/pandas/core/frame.py\u001b[0m in \u001b[0;36m?\u001b[0;34m(self, data, index, columns, dtype, copy)\u001b[0m\n\u001b[1;32m    882\u001b[0m                 )\n\u001b[1;32m    883\u001b[0m         \u001b[0;31m# For data is scalar\u001b[0m\u001b[0;34m\u001b[0m\u001b[0;34m\u001b[0m\u001b[0m\n\u001b[1;32m    884\u001b[0m         \u001b[0;32melse\u001b[0m\u001b[0;34m:\u001b[0m\u001b[0;34m\u001b[0m\u001b[0;34m\u001b[0m\u001b[0m\n\u001b[1;32m    885\u001b[0m             \u001b[0;32mif\u001b[0m \u001b[0mindex\u001b[0m \u001b[0;32mis\u001b[0m \u001b[0;32mNone\u001b[0m \u001b[0;32mor\u001b[0m \u001b[0mcolumns\u001b[0m \u001b[0;32mis\u001b[0m \u001b[0;32mNone\u001b[0m\u001b[0;34m:\u001b[0m\u001b[0;34m\u001b[0m\u001b[0;34m\u001b[0m\u001b[0m\n\u001b[0;32m--> 886\u001b[0;31m                 \u001b[0;32mraise\u001b[0m \u001b[0mValueError\u001b[0m\u001b[0;34m(\u001b[0m\u001b[0;34m\"DataFrame constructor not properly called!\"\u001b[0m\u001b[0;34m)\u001b[0m\u001b[0;34m\u001b[0m\u001b[0;34m\u001b[0m\u001b[0m\n\u001b[0m\u001b[1;32m    887\u001b[0m \u001b[0;34m\u001b[0m\u001b[0m\n\u001b[1;32m    888\u001b[0m             \u001b[0mindex\u001b[0m \u001b[0;34m=\u001b[0m \u001b[0mensure_index\u001b[0m\u001b[0;34m(\u001b[0m\u001b[0mindex\u001b[0m\u001b[0;34m)\u001b[0m\u001b[0;34m\u001b[0m\u001b[0;34m\u001b[0m\u001b[0m\n\u001b[1;32m    889\u001b[0m             \u001b[0mcolumns\u001b[0m \u001b[0;34m=\u001b[0m \u001b[0mensure_index\u001b[0m\u001b[0;34m(\u001b[0m\u001b[0mcolumns\u001b[0m\u001b[0;34m)\u001b[0m\u001b[0;34m\u001b[0m\u001b[0;34m\u001b[0m\u001b[0m\n",
      "\u001b[0;31mValueError\u001b[0m: DataFrame constructor not properly called!"
     ]
    }
   ],
   "source": [
    "df_report = pd.DataFrame(report).transpose()\n",
    "\n",
    "plt.figure(figsize=(10, 6))\n",
    "sns.heatmap(df_report.iloc[:-1, :].T, annot=True, cmap=\"Blues\", cbar=False, fmt=\".2f\")\n",
    "\n",
    "plt.title('Classification Report')\n",
    "plt.xlabel('Metrics')\n",
    "plt.ylabel('Classes')\n",
    "plt.show()"
   ]
  },
  {
   "cell_type": "code",
   "execution_count": null,
   "id": "930482e7",
   "metadata": {
    "papermill": {
     "duration": null,
     "end_time": null,
     "exception": null,
     "start_time": null,
     "status": "pending"
    },
    "tags": []
   },
   "outputs": [],
   "source": []
  }
 ],
 "metadata": {
  "kaggle": {
   "accelerator": "gpu",
   "dataSources": [
    {
     "datasetId": 310,
     "sourceId": 23498,
     "sourceType": "datasetVersion"
    }
   ],
   "dockerImageVersionId": 30748,
   "isGpuEnabled": true,
   "isInternetEnabled": true,
   "language": "python",
   "sourceType": "notebook"
  },
  "kernelspec": {
   "display_name": "Python 3",
   "language": "python",
   "name": "python3"
  },
  "language_info": {
   "codemirror_mode": {
    "name": "ipython",
    "version": 3
   },
   "file_extension": ".py",
   "mimetype": "text/x-python",
   "name": "python",
   "nbconvert_exporter": "python",
   "pygments_lexer": "ipython3",
   "version": "3.10.13"
  },
  "papermill": {
   "default_parameters": {},
   "duration": 180.240065,
   "end_time": "2024-07-30T14:20:57.454681",
   "environment_variables": {},
   "exception": true,
   "input_path": "__notebook__.ipynb",
   "output_path": "__notebook__.ipynb",
   "parameters": {},
   "start_time": "2024-07-30T14:17:57.214616",
   "version": "2.5.0"
  }
 },
 "nbformat": 4,
 "nbformat_minor": 5
}
